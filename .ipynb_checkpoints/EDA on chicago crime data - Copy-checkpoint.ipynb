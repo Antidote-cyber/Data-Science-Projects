{
 "cells": [
  {
   "cell_type": "markdown",
   "id": "547ae1a6",
   "metadata": {},
   "source": [
    "_LEARNING-CIRCLE-24 PROJECT_"
   ]
  },
  {
   "cell_type": "markdown",
   "id": "0dad4ee9",
   "metadata": {},
   "source": [
    "<h2> Learning-Circle-24 </h2> <p>  Contributors </p>\n",
    "\n"
   ]
  },
  {
   "cell_type": "markdown",
   "id": "ad32ee5f",
   "metadata": {},
   "source": [
    "Analyzing the Chicago crime dataset involves examining various aspects of the data to understand patterns, trends, and characteristics of criminal activities in Chicago. We perform analysis using Python, pandas and visualization libraries using the following steps:\n",
    "\n",
    "1. Load the Dataset: Load the Chicago crime dataset into a DataFrame.\n",
    "2. Explore the Dataset: Examine the structure, columns, and basic statistics of the dataset.\n",
    "3. Data Cleaning: We dropped redundant columns and handle missing values.\n",
    "4. Visualize Data Distribution: Visualize the distribution of variables using histograms, box plots, or density plots.\n",
    "5. Identify Outliers: Detect and handle outliers that may affect the analysis.\n",
    "6. Investigate Relationships: Look for relationships between variables using scatter plots, correlation matrices, or pair plots\n",
    "7. Investigate Crime Types: Analyze the distribution of different types of crimes.\n",
    "8. Examine Crime Locations: Investigate the distribution of crimes across different locations.\n",
    "9. Identify Hotspots: Identify areas with high crime rates.\n",
    "10. Detect Seasonal Patterns: Look for seasonal patterns or variations in crime rates.\n",
    "11. Compare Crime Rates: Compare crime rates across different categories such as day of the week, time of day, and month.\n",
    "12. Summarize and Visualize Insights: Summarize and Visualize the key insights and findings from the analysis using plots and charts."
   ]
  },
  {
   "cell_type": "code",
   "execution_count": 1,
   "id": "9a24d3c5",
   "metadata": {
    "ExecuteTime": {
     "end_time": "2024-03-03T12:45:48.670696Z",
     "start_time": "2024-03-03T12:45:36.419566Z"
    }
   },
   "outputs": [],
   "source": [
    "import pandas as pd"
   ]
  },
  {
   "cell_type": "code",
   "execution_count": 2,
   "id": "e33a0ba2",
   "metadata": {
    "ExecuteTime": {
     "end_time": "2024-03-03T12:45:49.063334Z",
     "start_time": "2024-03-03T12:45:49.050430Z"
    }
   },
   "outputs": [],
   "source": [
    "# Set display option \n",
    "pd.set_option('display.max.columns', None)"
   ]
  },
  {
   "cell_type": "markdown",
   "id": "282ac4ea",
   "metadata": {
    "ExecuteTime": {
     "end_time": "2024-03-02T06:10:29.749123Z",
     "start_time": "2024-03-02T06:10:29.698866Z"
    }
   },
   "source": [
    "# 1. Loading the dataset"
   ]
  },
  {
   "cell_type": "code",
   "execution_count": 3,
   "id": "baad012f",
   "metadata": {
    "ExecuteTime": {
     "end_time": "2024-03-03T12:46:20.157733Z",
     "start_time": "2024-03-03T12:45:49.469550Z"
    }
   },
   "outputs": [],
   "source": [
    "# Load the dataset\n",
    "chicago_crime_df= pd.read_csv('./dataset/crime_data_chicago.csv')"
   ]
  },
  {
   "cell_type": "markdown",
   "id": "46015508",
   "metadata": {},
   "source": [
    "# 2. Explore the dataset"
   ]
  },
  {
   "cell_type": "code",
   "execution_count": 4,
   "id": "40a1c122",
   "metadata": {
    "ExecuteTime": {
     "end_time": "2024-03-03T12:46:38.669576Z",
     "start_time": "2024-03-03T12:46:38.649944Z"
    }
   },
   "outputs": [
    {
     "data": {
      "text/plain": [
       "(2278726, 23)"
      ]
     },
     "execution_count": 4,
     "metadata": {},
     "output_type": "execute_result"
    }
   ],
   "source": [
    "#checking the dimensions\n",
    "chicago_crime_df.shape"
   ]
  },
  {
   "cell_type": "code",
   "execution_count": 5,
   "id": "821a0eb5",
   "metadata": {
    "ExecuteTime": {
     "end_time": "2024-03-03T12:46:39.654291Z",
     "start_time": "2024-03-03T12:46:39.513764Z"
    }
   },
   "outputs": [
    {
     "data": {
      "text/html": [
       "<div>\n",
       "<style scoped>\n",
       "    .dataframe tbody tr th:only-of-type {\n",
       "        vertical-align: middle;\n",
       "    }\n",
       "\n",
       "    .dataframe tbody tr th {\n",
       "        vertical-align: top;\n",
       "    }\n",
       "\n",
       "    .dataframe thead th {\n",
       "        text-align: right;\n",
       "    }\n",
       "</style>\n",
       "<table border=\"1\" class=\"dataframe\">\n",
       "  <thead>\n",
       "    <tr style=\"text-align: right;\">\n",
       "      <th></th>\n",
       "      <th>Unnamed: 0</th>\n",
       "      <th>ID</th>\n",
       "      <th>Case Number</th>\n",
       "      <th>Date</th>\n",
       "      <th>Block</th>\n",
       "      <th>IUCR</th>\n",
       "      <th>Primary Type</th>\n",
       "      <th>Description</th>\n",
       "      <th>Location Description</th>\n",
       "      <th>Arrest</th>\n",
       "      <th>Domestic</th>\n",
       "      <th>Beat</th>\n",
       "      <th>District</th>\n",
       "      <th>Ward</th>\n",
       "      <th>Community Area</th>\n",
       "      <th>FBI Code</th>\n",
       "      <th>X Coordinate</th>\n",
       "      <th>Y Coordinate</th>\n",
       "      <th>Year</th>\n",
       "      <th>Updated On</th>\n",
       "      <th>Latitude</th>\n",
       "      <th>Longitude</th>\n",
       "      <th>Location</th>\n",
       "    </tr>\n",
       "  </thead>\n",
       "  <tbody>\n",
       "    <tr>\n",
       "      <th>0</th>\n",
       "      <td>0</td>\n",
       "      <td>6407111</td>\n",
       "      <td>HP485721</td>\n",
       "      <td>07/26/2008 02:30:00 PM</td>\n",
       "      <td>085XX S MUSKEGON AVE</td>\n",
       "      <td>1320</td>\n",
       "      <td>CRIMINAL DAMAGE</td>\n",
       "      <td>TO VEHICLE</td>\n",
       "      <td>STREET</td>\n",
       "      <td>False</td>\n",
       "      <td>False</td>\n",
       "      <td>423</td>\n",
       "      <td>4.0</td>\n",
       "      <td>10.0</td>\n",
       "      <td>46.0</td>\n",
       "      <td>14</td>\n",
       "      <td>1196638.0</td>\n",
       "      <td>1848800.0</td>\n",
       "      <td>2008</td>\n",
       "      <td>02/28/2018 03:56:25 PM</td>\n",
       "      <td>41.739980</td>\n",
       "      <td>-87.555120</td>\n",
       "      <td>(41.739979622, -87.555120042)</td>\n",
       "    </tr>\n",
       "    <tr>\n",
       "      <th>1</th>\n",
       "      <td>1</td>\n",
       "      <td>11398199</td>\n",
       "      <td>JB372830</td>\n",
       "      <td>07/31/2018 10:57:00 AM</td>\n",
       "      <td>092XX S ELLIS AVE</td>\n",
       "      <td>143C</td>\n",
       "      <td>WEAPONS VIOLATION</td>\n",
       "      <td>UNLAWFUL POSS AMMUNITION</td>\n",
       "      <td>POOL ROOM</td>\n",
       "      <td>True</td>\n",
       "      <td>False</td>\n",
       "      <td>413</td>\n",
       "      <td>4.0</td>\n",
       "      <td>8.0</td>\n",
       "      <td>47.0</td>\n",
       "      <td>15</td>\n",
       "      <td>1184499.0</td>\n",
       "      <td>1843935.0</td>\n",
       "      <td>2018</td>\n",
       "      <td>08/07/2018 04:02:59 PM</td>\n",
       "      <td>41.726922</td>\n",
       "      <td>-87.599747</td>\n",
       "      <td>(41.726922145, -87.599746995)</td>\n",
       "    </tr>\n",
       "    <tr>\n",
       "      <th>2</th>\n",
       "      <td>2</td>\n",
       "      <td>5488785</td>\n",
       "      <td>HN308568</td>\n",
       "      <td>04/27/2007 10:30:00 AM</td>\n",
       "      <td>062XX N TRIPP AVE</td>\n",
       "      <td>0610</td>\n",
       "      <td>BURGLARY</td>\n",
       "      <td>FORCIBLE ENTRY</td>\n",
       "      <td>RESIDENCE</td>\n",
       "      <td>True</td>\n",
       "      <td>False</td>\n",
       "      <td>1711</td>\n",
       "      <td>17.0</td>\n",
       "      <td>39.0</td>\n",
       "      <td>12.0</td>\n",
       "      <td>05</td>\n",
       "      <td>1146911.0</td>\n",
       "      <td>1941022.0</td>\n",
       "      <td>2007</td>\n",
       "      <td>02/28/2018 03:56:25 PM</td>\n",
       "      <td>41.994138</td>\n",
       "      <td>-87.734959</td>\n",
       "      <td>(41.994137622, -87.734959049)</td>\n",
       "    </tr>\n",
       "    <tr>\n",
       "      <th>3</th>\n",
       "      <td>3</td>\n",
       "      <td>11389116</td>\n",
       "      <td>JB361368</td>\n",
       "      <td>07/23/2018 08:55:00 AM</td>\n",
       "      <td>0000X N KEELER AVE</td>\n",
       "      <td>0560</td>\n",
       "      <td>ASSAULT</td>\n",
       "      <td>SIMPLE</td>\n",
       "      <td>NURSING HOME/RETIREMENT HOME</td>\n",
       "      <td>False</td>\n",
       "      <td>False</td>\n",
       "      <td>1115</td>\n",
       "      <td>11.0</td>\n",
       "      <td>28.0</td>\n",
       "      <td>26.0</td>\n",
       "      <td>08A</td>\n",
       "      <td>1148388.0</td>\n",
       "      <td>1899882.0</td>\n",
       "      <td>2018</td>\n",
       "      <td>07/30/2018 03:52:24 PM</td>\n",
       "      <td>41.881217</td>\n",
       "      <td>-87.730590</td>\n",
       "      <td>(41.881217483, -87.730589961)</td>\n",
       "    </tr>\n",
       "    <tr>\n",
       "      <th>4</th>\n",
       "      <td>4</td>\n",
       "      <td>12420431</td>\n",
       "      <td>JE297624</td>\n",
       "      <td>07/11/2021 06:40:00 AM</td>\n",
       "      <td>016XX W HARRISON ST</td>\n",
       "      <td>051A</td>\n",
       "      <td>ASSAULT</td>\n",
       "      <td>AGGRAVATED - HANDGUN</td>\n",
       "      <td>PARKING LOT / GARAGE (NON RESIDENTIAL)</td>\n",
       "      <td>False</td>\n",
       "      <td>False</td>\n",
       "      <td>1231</td>\n",
       "      <td>12.0</td>\n",
       "      <td>27.0</td>\n",
       "      <td>28.0</td>\n",
       "      <td>04A</td>\n",
       "      <td>1165430.0</td>\n",
       "      <td>1897441.0</td>\n",
       "      <td>2021</td>\n",
       "      <td>07/18/2021 04:56:02 PM</td>\n",
       "      <td>41.874174</td>\n",
       "      <td>-87.668082</td>\n",
       "      <td>(41.874173691, -87.668082118)</td>\n",
       "    </tr>\n",
       "  </tbody>\n",
       "</table>\n",
       "</div>"
      ],
      "text/plain": [
       "   Unnamed: 0        ID Case Number                    Date  \\\n",
       "0           0   6407111    HP485721  07/26/2008 02:30:00 PM   \n",
       "1           1  11398199    JB372830  07/31/2018 10:57:00 AM   \n",
       "2           2   5488785    HN308568  04/27/2007 10:30:00 AM   \n",
       "3           3  11389116    JB361368  07/23/2018 08:55:00 AM   \n",
       "4           4  12420431    JE297624  07/11/2021 06:40:00 AM   \n",
       "\n",
       "                  Block  IUCR       Primary Type               Description  \\\n",
       "0  085XX S MUSKEGON AVE  1320    CRIMINAL DAMAGE                TO VEHICLE   \n",
       "1     092XX S ELLIS AVE  143C  WEAPONS VIOLATION  UNLAWFUL POSS AMMUNITION   \n",
       "2     062XX N TRIPP AVE  0610           BURGLARY            FORCIBLE ENTRY   \n",
       "3    0000X N KEELER AVE  0560            ASSAULT                    SIMPLE   \n",
       "4   016XX W HARRISON ST  051A            ASSAULT      AGGRAVATED - HANDGUN   \n",
       "\n",
       "                     Location Description  Arrest  Domestic  Beat  District  \\\n",
       "0                                  STREET   False     False   423       4.0   \n",
       "1                               POOL ROOM    True     False   413       4.0   \n",
       "2                               RESIDENCE    True     False  1711      17.0   \n",
       "3            NURSING HOME/RETIREMENT HOME   False     False  1115      11.0   \n",
       "4  PARKING LOT / GARAGE (NON RESIDENTIAL)   False     False  1231      12.0   \n",
       "\n",
       "   Ward  Community Area FBI Code  X Coordinate  Y Coordinate  Year  \\\n",
       "0  10.0            46.0       14     1196638.0     1848800.0  2008   \n",
       "1   8.0            47.0       15     1184499.0     1843935.0  2018   \n",
       "2  39.0            12.0       05     1146911.0     1941022.0  2007   \n",
       "3  28.0            26.0      08A     1148388.0     1899882.0  2018   \n",
       "4  27.0            28.0      04A     1165430.0     1897441.0  2021   \n",
       "\n",
       "               Updated On   Latitude  Longitude                       Location  \n",
       "0  02/28/2018 03:56:25 PM  41.739980 -87.555120  (41.739979622, -87.555120042)  \n",
       "1  08/07/2018 04:02:59 PM  41.726922 -87.599747  (41.726922145, -87.599746995)  \n",
       "2  02/28/2018 03:56:25 PM  41.994138 -87.734959  (41.994137622, -87.734959049)  \n",
       "3  07/30/2018 03:52:24 PM  41.881217 -87.730590  (41.881217483, -87.730589961)  \n",
       "4  07/18/2021 04:56:02 PM  41.874174 -87.668082  (41.874173691, -87.668082118)  "
      ]
     },
     "execution_count": 5,
     "metadata": {},
     "output_type": "execute_result"
    }
   ],
   "source": [
    "# Display the first five rows of the dataset\n",
    "chicago_crime_df.head()"
   ]
  },
  {
   "cell_type": "code",
   "execution_count": 6,
   "id": "2b737764",
   "metadata": {
    "ExecuteTime": {
     "end_time": "2024-03-03T12:46:40.251206Z",
     "start_time": "2024-03-03T12:46:40.232978Z"
    }
   },
   "outputs": [
    {
     "name": "stdout",
     "output_type": "stream",
     "text": [
      "<class 'pandas.core.frame.DataFrame'>\n",
      "RangeIndex: 2278726 entries, 0 to 2278725\n",
      "Data columns (total 23 columns):\n",
      " #   Column                Dtype  \n",
      "---  ------                -----  \n",
      " 0   Unnamed: 0            int64  \n",
      " 1   ID                    int64  \n",
      " 2   Case Number           object \n",
      " 3   Date                  object \n",
      " 4   Block                 object \n",
      " 5   IUCR                  object \n",
      " 6   Primary Type          object \n",
      " 7   Description           object \n",
      " 8   Location Description  object \n",
      " 9   Arrest                bool   \n",
      " 10  Domestic              bool   \n",
      " 11  Beat                  int64  \n",
      " 12  District              float64\n",
      " 13  Ward                  float64\n",
      " 14  Community Area        float64\n",
      " 15  FBI Code              object \n",
      " 16  X Coordinate          float64\n",
      " 17  Y Coordinate          float64\n",
      " 18  Year                  int64  \n",
      " 19  Updated On            object \n",
      " 20  Latitude              float64\n",
      " 21  Longitude             float64\n",
      " 22  Location              object \n",
      "dtypes: bool(2), float64(7), int64(4), object(10)\n",
      "memory usage: 369.4+ MB\n"
     ]
    }
   ],
   "source": [
    " # Display column information and data types\n",
    "chicago_crime_df.info()"
   ]
  },
  {
   "cell_type": "code",
   "execution_count": 7,
   "id": "150b2940",
   "metadata": {
    "ExecuteTime": {
     "end_time": "2024-03-03T12:46:42.247864Z",
     "start_time": "2024-03-03T12:46:40.890695Z"
    }
   },
   "outputs": [
    {
     "data": {
      "text/html": [
       "<div>\n",
       "<style scoped>\n",
       "    .dataframe tbody tr th:only-of-type {\n",
       "        vertical-align: middle;\n",
       "    }\n",
       "\n",
       "    .dataframe tbody tr th {\n",
       "        vertical-align: top;\n",
       "    }\n",
       "\n",
       "    .dataframe thead th {\n",
       "        text-align: right;\n",
       "    }\n",
       "</style>\n",
       "<table border=\"1\" class=\"dataframe\">\n",
       "  <thead>\n",
       "    <tr style=\"text-align: right;\">\n",
       "      <th></th>\n",
       "      <th>Unnamed: 0</th>\n",
       "      <th>ID</th>\n",
       "      <th>Beat</th>\n",
       "      <th>District</th>\n",
       "      <th>Ward</th>\n",
       "      <th>Community Area</th>\n",
       "      <th>X Coordinate</th>\n",
       "      <th>Y Coordinate</th>\n",
       "      <th>Year</th>\n",
       "      <th>Latitude</th>\n",
       "      <th>Longitude</th>\n",
       "    </tr>\n",
       "  </thead>\n",
       "  <tbody>\n",
       "    <tr>\n",
       "      <th>count</th>\n",
       "      <td>2.278726e+06</td>\n",
       "      <td>2.278726e+06</td>\n",
       "      <td>2.278726e+06</td>\n",
       "      <td>2.278714e+06</td>\n",
       "      <td>2.094031e+06</td>\n",
       "      <td>2.094459e+06</td>\n",
       "      <td>2.254741e+06</td>\n",
       "      <td>2.254741e+06</td>\n",
       "      <td>2.278726e+06</td>\n",
       "      <td>2.254741e+06</td>\n",
       "      <td>2.254741e+06</td>\n",
       "    </tr>\n",
       "    <tr>\n",
       "      <th>mean</th>\n",
       "      <td>1.139362e+06</td>\n",
       "      <td>6.882068e+06</td>\n",
       "      <td>1.186442e+03</td>\n",
       "      <td>1.129072e+01</td>\n",
       "      <td>2.272764e+01</td>\n",
       "      <td>3.752140e+01</td>\n",
       "      <td>1.164569e+06</td>\n",
       "      <td>1.885747e+06</td>\n",
       "      <td>2.009638e+03</td>\n",
       "      <td>4.184209e+01</td>\n",
       "      <td>-8.767161e+01</td>\n",
       "    </tr>\n",
       "    <tr>\n",
       "      <th>std</th>\n",
       "      <td>6.578117e+05</td>\n",
       "      <td>3.419168e+06</td>\n",
       "      <td>7.026836e+02</td>\n",
       "      <td>6.946692e+00</td>\n",
       "      <td>1.383464e+01</td>\n",
       "      <td>2.153282e+01</td>\n",
       "      <td>1.673955e+04</td>\n",
       "      <td>3.209855e+04</td>\n",
       "      <td>6.019724e+00</td>\n",
       "      <td>8.830434e-02</td>\n",
       "      <td>6.073538e-02</td>\n",
       "    </tr>\n",
       "    <tr>\n",
       "      <th>min</th>\n",
       "      <td>0.000000e+00</td>\n",
       "      <td>6.370000e+02</td>\n",
       "      <td>1.110000e+02</td>\n",
       "      <td>1.000000e+00</td>\n",
       "      <td>1.000000e+00</td>\n",
       "      <td>0.000000e+00</td>\n",
       "      <td>0.000000e+00</td>\n",
       "      <td>0.000000e+00</td>\n",
       "      <td>2.001000e+03</td>\n",
       "      <td>3.661945e+01</td>\n",
       "      <td>-9.168657e+01</td>\n",
       "    </tr>\n",
       "    <tr>\n",
       "      <th>25%</th>\n",
       "      <td>5.696812e+05</td>\n",
       "      <td>3.716076e+06</td>\n",
       "      <td>6.210000e+02</td>\n",
       "      <td>6.000000e+00</td>\n",
       "      <td>1.000000e+01</td>\n",
       "      <td>2.300000e+01</td>\n",
       "      <td>1.152948e+06</td>\n",
       "      <td>1.859053e+06</td>\n",
       "      <td>2.004000e+03</td>\n",
       "      <td>4.176866e+01</td>\n",
       "      <td>-8.771379e+01</td>\n",
       "    </tr>\n",
       "    <tr>\n",
       "      <th>50%</th>\n",
       "      <td>1.139362e+06</td>\n",
       "      <td>6.885990e+06</td>\n",
       "      <td>1.034000e+03</td>\n",
       "      <td>1.000000e+01</td>\n",
       "      <td>2.300000e+01</td>\n",
       "      <td>3.200000e+01</td>\n",
       "      <td>1.166060e+06</td>\n",
       "      <td>1.890673e+06</td>\n",
       "      <td>2.009000e+03</td>\n",
       "      <td>4.185578e+01</td>\n",
       "      <td>-8.766597e+01</td>\n",
       "    </tr>\n",
       "    <tr>\n",
       "      <th>75%</th>\n",
       "      <td>1.709044e+06</td>\n",
       "      <td>9.887568e+06</td>\n",
       "      <td>1.731000e+03</td>\n",
       "      <td>1.700000e+01</td>\n",
       "      <td>3.400000e+01</td>\n",
       "      <td>5.700000e+01</td>\n",
       "      <td>1.176365e+06</td>\n",
       "      <td>1.909219e+06</td>\n",
       "      <td>2.014000e+03</td>\n",
       "      <td>4.190668e+01</td>\n",
       "      <td>-8.762823e+01</td>\n",
       "    </tr>\n",
       "    <tr>\n",
       "      <th>max</th>\n",
       "      <td>2.278725e+06</td>\n",
       "      <td>1.278199e+07</td>\n",
       "      <td>2.535000e+03</td>\n",
       "      <td>3.100000e+01</td>\n",
       "      <td>5.000000e+01</td>\n",
       "      <td>7.700000e+01</td>\n",
       "      <td>1.205119e+06</td>\n",
       "      <td>1.951622e+06</td>\n",
       "      <td>2.022000e+03</td>\n",
       "      <td>4.202291e+01</td>\n",
       "      <td>-8.752453e+01</td>\n",
       "    </tr>\n",
       "  </tbody>\n",
       "</table>\n",
       "</div>"
      ],
      "text/plain": [
       "         Unnamed: 0            ID          Beat      District          Ward  \\\n",
       "count  2.278726e+06  2.278726e+06  2.278726e+06  2.278714e+06  2.094031e+06   \n",
       "mean   1.139362e+06  6.882068e+06  1.186442e+03  1.129072e+01  2.272764e+01   \n",
       "std    6.578117e+05  3.419168e+06  7.026836e+02  6.946692e+00  1.383464e+01   \n",
       "min    0.000000e+00  6.370000e+02  1.110000e+02  1.000000e+00  1.000000e+00   \n",
       "25%    5.696812e+05  3.716076e+06  6.210000e+02  6.000000e+00  1.000000e+01   \n",
       "50%    1.139362e+06  6.885990e+06  1.034000e+03  1.000000e+01  2.300000e+01   \n",
       "75%    1.709044e+06  9.887568e+06  1.731000e+03  1.700000e+01  3.400000e+01   \n",
       "max    2.278725e+06  1.278199e+07  2.535000e+03  3.100000e+01  5.000000e+01   \n",
       "\n",
       "       Community Area  X Coordinate  Y Coordinate          Year      Latitude  \\\n",
       "count    2.094459e+06  2.254741e+06  2.254741e+06  2.278726e+06  2.254741e+06   \n",
       "mean     3.752140e+01  1.164569e+06  1.885747e+06  2.009638e+03  4.184209e+01   \n",
       "std      2.153282e+01  1.673955e+04  3.209855e+04  6.019724e+00  8.830434e-02   \n",
       "min      0.000000e+00  0.000000e+00  0.000000e+00  2.001000e+03  3.661945e+01   \n",
       "25%      2.300000e+01  1.152948e+06  1.859053e+06  2.004000e+03  4.176866e+01   \n",
       "50%      3.200000e+01  1.166060e+06  1.890673e+06  2.009000e+03  4.185578e+01   \n",
       "75%      5.700000e+01  1.176365e+06  1.909219e+06  2.014000e+03  4.190668e+01   \n",
       "max      7.700000e+01  1.205119e+06  1.951622e+06  2.022000e+03  4.202291e+01   \n",
       "\n",
       "          Longitude  \n",
       "count  2.254741e+06  \n",
       "mean  -8.767161e+01  \n",
       "std    6.073538e-02  \n",
       "min   -9.168657e+01  \n",
       "25%   -8.771379e+01  \n",
       "50%   -8.766597e+01  \n",
       "75%   -8.762823e+01  \n",
       "max   -8.752453e+01  "
      ]
     },
     "execution_count": 7,
     "metadata": {},
     "output_type": "execute_result"
    }
   ],
   "source": [
    "# Display summary statistics of numerical columns\n",
    "chicago_crime_df.describe()"
   ]
  },
  {
   "cell_type": "markdown",
   "id": "6aa418a1",
   "metadata": {},
   "source": [
    "# 3. Data Cleaning"
   ]
  },
  {
   "cell_type": "markdown",
   "id": "b951f8c5",
   "metadata": {},
   "source": [
    "__1. Use a funtion to Drop redundant columns (a redundant colum is one that gives infromation that another column already explains: eg ID and Case number)__"
   ]
  },
  {
   "cell_type": "code",
   "execution_count": 8,
   "id": "38fd4925",
   "metadata": {
    "ExecuteTime": {
     "end_time": "2024-03-03T12:46:43.188984Z",
     "start_time": "2024-03-03T12:46:43.182651Z"
    }
   },
   "outputs": [],
   "source": [
    "# Dropping redundant columns\n",
    "def drop_redundant_columns(df):\n",
    "    redundant_columns = ['Unnamed: 0','Case Number', 'Location','Updated On','X Coordinate','Y Coordinate','Community Area','IUCR']\n",
    "    df.drop(redundant_columns, axis=1, inplace= True)"
   ]
  },
  {
   "cell_type": "code",
   "execution_count": 9,
   "id": "6a103744",
   "metadata": {
    "ExecuteTime": {
     "end_time": "2024-03-03T12:46:44.023893Z",
     "start_time": "2024-03-03T12:46:43.719880Z"
    }
   },
   "outputs": [],
   "source": [
    "drop_redundant_columns(chicago_crime_df)"
   ]
  },
  {
   "cell_type": "markdown",
   "id": "43744c33",
   "metadata": {},
   "source": [
    "__Reasons for dropping the above columns__\n",
    "- 'Unnamed: 0': Its just an index for individual row\n",
    "- 'Case Number': Unique case identifier for the record which is redundant due to the presence of 'ID'\n",
    "- 'Location': This is where the incident occurred in a format that allows for creation of maps and other geographic operation. It's the combination of both latitude and longitude feature of this dataset thus, not required.\n",
    "- 'Updated On': Holds the date and time the record was last updated.Which is not required for our analysis.\n",
    "- 'X Coordinate': The x coordinate is a shifted location from the actual location for partial redaction but falls on the same block. Since we have a longitude/latitude and the block where the crime happened, we can neglect this feature.\n",
    "- 'Y Coordinate': The y coordinate is a shifted location from the actual location for partial redaction but falls on the same block. Since we have a longitude/latitude and the block where the crime happened, we can neglect this feature.\n",
    "- 'Community Area': This indicates the community area where the incident occurred. Which is not neccessary for our analysis.\n",
    "- 'IUCR': This is the Illinois Unifrom Crime Reporting code. This is directly linked to the Primary Type and Description, it provides information about the primary type and description of crime. Since primary type and description features already exist, it becomes a redundant column\n"
   ]
  },
  {
   "cell_type": "code",
   "execution_count": 10,
   "id": "92ecc9dd",
   "metadata": {
    "ExecuteTime": {
     "end_time": "2024-03-03T12:46:48.625717Z",
     "start_time": "2024-03-03T12:46:48.596431Z"
    },
    "scrolled": false
   },
   "outputs": [
    {
     "data": {
      "text/html": [
       "<div>\n",
       "<style scoped>\n",
       "    .dataframe tbody tr th:only-of-type {\n",
       "        vertical-align: middle;\n",
       "    }\n",
       "\n",
       "    .dataframe tbody tr th {\n",
       "        vertical-align: top;\n",
       "    }\n",
       "\n",
       "    .dataframe thead th {\n",
       "        text-align: right;\n",
       "    }\n",
       "</style>\n",
       "<table border=\"1\" class=\"dataframe\">\n",
       "  <thead>\n",
       "    <tr style=\"text-align: right;\">\n",
       "      <th></th>\n",
       "      <th>ID</th>\n",
       "      <th>Date</th>\n",
       "      <th>Block</th>\n",
       "      <th>Primary Type</th>\n",
       "      <th>Description</th>\n",
       "      <th>Location Description</th>\n",
       "      <th>Arrest</th>\n",
       "      <th>Domestic</th>\n",
       "      <th>Beat</th>\n",
       "      <th>District</th>\n",
       "      <th>Ward</th>\n",
       "      <th>FBI Code</th>\n",
       "      <th>Year</th>\n",
       "      <th>Latitude</th>\n",
       "      <th>Longitude</th>\n",
       "    </tr>\n",
       "  </thead>\n",
       "  <tbody>\n",
       "    <tr>\n",
       "      <th>0</th>\n",
       "      <td>6407111</td>\n",
       "      <td>07/26/2008 02:30:00 PM</td>\n",
       "      <td>085XX S MUSKEGON AVE</td>\n",
       "      <td>CRIMINAL DAMAGE</td>\n",
       "      <td>TO VEHICLE</td>\n",
       "      <td>STREET</td>\n",
       "      <td>False</td>\n",
       "      <td>False</td>\n",
       "      <td>423</td>\n",
       "      <td>4.0</td>\n",
       "      <td>10.0</td>\n",
       "      <td>14</td>\n",
       "      <td>2008</td>\n",
       "      <td>41.739980</td>\n",
       "      <td>-87.555120</td>\n",
       "    </tr>\n",
       "    <tr>\n",
       "      <th>1</th>\n",
       "      <td>11398199</td>\n",
       "      <td>07/31/2018 10:57:00 AM</td>\n",
       "      <td>092XX S ELLIS AVE</td>\n",
       "      <td>WEAPONS VIOLATION</td>\n",
       "      <td>UNLAWFUL POSS AMMUNITION</td>\n",
       "      <td>POOL ROOM</td>\n",
       "      <td>True</td>\n",
       "      <td>False</td>\n",
       "      <td>413</td>\n",
       "      <td>4.0</td>\n",
       "      <td>8.0</td>\n",
       "      <td>15</td>\n",
       "      <td>2018</td>\n",
       "      <td>41.726922</td>\n",
       "      <td>-87.599747</td>\n",
       "    </tr>\n",
       "    <tr>\n",
       "      <th>2</th>\n",
       "      <td>5488785</td>\n",
       "      <td>04/27/2007 10:30:00 AM</td>\n",
       "      <td>062XX N TRIPP AVE</td>\n",
       "      <td>BURGLARY</td>\n",
       "      <td>FORCIBLE ENTRY</td>\n",
       "      <td>RESIDENCE</td>\n",
       "      <td>True</td>\n",
       "      <td>False</td>\n",
       "      <td>1711</td>\n",
       "      <td>17.0</td>\n",
       "      <td>39.0</td>\n",
       "      <td>05</td>\n",
       "      <td>2007</td>\n",
       "      <td>41.994138</td>\n",
       "      <td>-87.734959</td>\n",
       "    </tr>\n",
       "    <tr>\n",
       "      <th>3</th>\n",
       "      <td>11389116</td>\n",
       "      <td>07/23/2018 08:55:00 AM</td>\n",
       "      <td>0000X N KEELER AVE</td>\n",
       "      <td>ASSAULT</td>\n",
       "      <td>SIMPLE</td>\n",
       "      <td>NURSING HOME/RETIREMENT HOME</td>\n",
       "      <td>False</td>\n",
       "      <td>False</td>\n",
       "      <td>1115</td>\n",
       "      <td>11.0</td>\n",
       "      <td>28.0</td>\n",
       "      <td>08A</td>\n",
       "      <td>2018</td>\n",
       "      <td>41.881217</td>\n",
       "      <td>-87.730590</td>\n",
       "    </tr>\n",
       "    <tr>\n",
       "      <th>4</th>\n",
       "      <td>12420431</td>\n",
       "      <td>07/11/2021 06:40:00 AM</td>\n",
       "      <td>016XX W HARRISON ST</td>\n",
       "      <td>ASSAULT</td>\n",
       "      <td>AGGRAVATED - HANDGUN</td>\n",
       "      <td>PARKING LOT / GARAGE (NON RESIDENTIAL)</td>\n",
       "      <td>False</td>\n",
       "      <td>False</td>\n",
       "      <td>1231</td>\n",
       "      <td>12.0</td>\n",
       "      <td>27.0</td>\n",
       "      <td>04A</td>\n",
       "      <td>2021</td>\n",
       "      <td>41.874174</td>\n",
       "      <td>-87.668082</td>\n",
       "    </tr>\n",
       "  </tbody>\n",
       "</table>\n",
       "</div>"
      ],
      "text/plain": [
       "         ID                    Date                 Block       Primary Type  \\\n",
       "0   6407111  07/26/2008 02:30:00 PM  085XX S MUSKEGON AVE    CRIMINAL DAMAGE   \n",
       "1  11398199  07/31/2018 10:57:00 AM     092XX S ELLIS AVE  WEAPONS VIOLATION   \n",
       "2   5488785  04/27/2007 10:30:00 AM     062XX N TRIPP AVE           BURGLARY   \n",
       "3  11389116  07/23/2018 08:55:00 AM    0000X N KEELER AVE            ASSAULT   \n",
       "4  12420431  07/11/2021 06:40:00 AM   016XX W HARRISON ST            ASSAULT   \n",
       "\n",
       "                Description                    Location Description  Arrest  \\\n",
       "0                TO VEHICLE                                  STREET   False   \n",
       "1  UNLAWFUL POSS AMMUNITION                               POOL ROOM    True   \n",
       "2            FORCIBLE ENTRY                               RESIDENCE    True   \n",
       "3                    SIMPLE            NURSING HOME/RETIREMENT HOME   False   \n",
       "4      AGGRAVATED - HANDGUN  PARKING LOT / GARAGE (NON RESIDENTIAL)   False   \n",
       "\n",
       "   Domestic  Beat  District  Ward FBI Code  Year   Latitude  Longitude  \n",
       "0     False   423       4.0  10.0       14  2008  41.739980 -87.555120  \n",
       "1     False   413       4.0   8.0       15  2018  41.726922 -87.599747  \n",
       "2     False  1711      17.0  39.0       05  2007  41.994138 -87.734959  \n",
       "3     False  1115      11.0  28.0      08A  2018  41.881217 -87.730590  \n",
       "4     False  1231      12.0  27.0      04A  2021  41.874174 -87.668082  "
      ]
     },
     "execution_count": 10,
     "metadata": {},
     "output_type": "execute_result"
    }
   ],
   "source": [
    "chicago_crime_df.head()"
   ]
  },
  {
   "cell_type": "markdown",
   "id": "05ebe46f",
   "metadata": {},
   "source": [
    "## Handling missing values"
   ]
  },
  {
   "cell_type": "code",
   "execution_count": 11,
   "id": "1ec6eefd",
   "metadata": {
    "ExecuteTime": {
     "end_time": "2024-03-03T12:46:49.937435Z",
     "start_time": "2024-03-03T12:46:49.918292Z"
    },
    "scrolled": true
   },
   "outputs": [
    {
     "name": "stdout",
     "output_type": "stream",
     "text": [
      "<class 'pandas.core.frame.DataFrame'>\n",
      "RangeIndex: 2278726 entries, 0 to 2278725\n",
      "Data columns (total 15 columns):\n",
      " #   Column                Dtype  \n",
      "---  ------                -----  \n",
      " 0   ID                    int64  \n",
      " 1   Date                  object \n",
      " 2   Block                 object \n",
      " 3   Primary Type          object \n",
      " 4   Description           object \n",
      " 5   Location Description  object \n",
      " 6   Arrest                bool   \n",
      " 7   Domestic              bool   \n",
      " 8   Beat                  int64  \n",
      " 9   District              float64\n",
      " 10  Ward                  float64\n",
      " 11  FBI Code              object \n",
      " 12  Year                  int64  \n",
      " 13  Latitude              float64\n",
      " 14  Longitude             float64\n",
      "dtypes: bool(2), float64(4), int64(3), object(6)\n",
      "memory usage: 230.4+ MB\n"
     ]
    }
   ],
   "source": [
    "chicago_crime_df.info()"
   ]
  },
  {
   "cell_type": "code",
   "execution_count": 12,
   "id": "3033b122",
   "metadata": {
    "ExecuteTime": {
     "end_time": "2024-03-03T12:46:57.030686Z",
     "start_time": "2024-03-03T12:46:50.531141Z"
    }
   },
   "outputs": [
    {
     "data": {
      "text/html": [
       "<div>\n",
       "<style scoped>\n",
       "    .dataframe tbody tr th:only-of-type {\n",
       "        vertical-align: middle;\n",
       "    }\n",
       "\n",
       "    .dataframe tbody tr th {\n",
       "        vertical-align: top;\n",
       "    }\n",
       "\n",
       "    .dataframe thead th {\n",
       "        text-align: right;\n",
       "    }\n",
       "</style>\n",
       "<table border=\"1\" class=\"dataframe\">\n",
       "  <thead>\n",
       "    <tr style=\"text-align: right;\">\n",
       "      <th></th>\n",
       "      <th>ID</th>\n",
       "      <th>Date</th>\n",
       "      <th>Block</th>\n",
       "      <th>Primary Type</th>\n",
       "      <th>Description</th>\n",
       "      <th>Location Description</th>\n",
       "      <th>Arrest</th>\n",
       "      <th>Domestic</th>\n",
       "      <th>Beat</th>\n",
       "      <th>District</th>\n",
       "      <th>Ward</th>\n",
       "      <th>FBI Code</th>\n",
       "      <th>Year</th>\n",
       "      <th>Latitude</th>\n",
       "      <th>Longitude</th>\n",
       "    </tr>\n",
       "  </thead>\n",
       "  <tbody>\n",
       "    <tr>\n",
       "      <th>count</th>\n",
       "      <td>2.278726e+06</td>\n",
       "      <td>2278726</td>\n",
       "      <td>2278726</td>\n",
       "      <td>2278726</td>\n",
       "      <td>2278726</td>\n",
       "      <td>2275849</td>\n",
       "      <td>2278726</td>\n",
       "      <td>2278726</td>\n",
       "      <td>2.278726e+06</td>\n",
       "      <td>2.278714e+06</td>\n",
       "      <td>2.094031e+06</td>\n",
       "      <td>2278726</td>\n",
       "      <td>2.278726e+06</td>\n",
       "      <td>2.254741e+06</td>\n",
       "      <td>2.254741e+06</td>\n",
       "    </tr>\n",
       "    <tr>\n",
       "      <th>unique</th>\n",
       "      <td>NaN</td>\n",
       "      <td>1343546</td>\n",
       "      <td>54347</td>\n",
       "      <td>35</td>\n",
       "      <td>515</td>\n",
       "      <td>198</td>\n",
       "      <td>2</td>\n",
       "      <td>2</td>\n",
       "      <td>NaN</td>\n",
       "      <td>NaN</td>\n",
       "      <td>NaN</td>\n",
       "      <td>26</td>\n",
       "      <td>NaN</td>\n",
       "      <td>NaN</td>\n",
       "      <td>NaN</td>\n",
       "    </tr>\n",
       "    <tr>\n",
       "      <th>top</th>\n",
       "      <td>NaN</td>\n",
       "      <td>01/01/2008 12:01:00 AM</td>\n",
       "      <td>100XX W OHARE ST</td>\n",
       "      <td>THEFT</td>\n",
       "      <td>SIMPLE</td>\n",
       "      <td>STREET</td>\n",
       "      <td>False</td>\n",
       "      <td>False</td>\n",
       "      <td>NaN</td>\n",
       "      <td>NaN</td>\n",
       "      <td>NaN</td>\n",
       "      <td>06</td>\n",
       "      <td>NaN</td>\n",
       "      <td>NaN</td>\n",
       "      <td>NaN</td>\n",
       "    </tr>\n",
       "    <tr>\n",
       "      <th>freq</th>\n",
       "      <td>NaN</td>\n",
       "      <td>81</td>\n",
       "      <td>4878</td>\n",
       "      <td>479375</td>\n",
       "      <td>268418</td>\n",
       "      <td>590957</td>\n",
       "      <td>1675252</td>\n",
       "      <td>1965311</td>\n",
       "      <td>NaN</td>\n",
       "      <td>NaN</td>\n",
       "      <td>NaN</td>\n",
       "      <td>479375</td>\n",
       "      <td>NaN</td>\n",
       "      <td>NaN</td>\n",
       "      <td>NaN</td>\n",
       "    </tr>\n",
       "    <tr>\n",
       "      <th>mean</th>\n",
       "      <td>6.882068e+06</td>\n",
       "      <td>NaN</td>\n",
       "      <td>NaN</td>\n",
       "      <td>NaN</td>\n",
       "      <td>NaN</td>\n",
       "      <td>NaN</td>\n",
       "      <td>NaN</td>\n",
       "      <td>NaN</td>\n",
       "      <td>1.186442e+03</td>\n",
       "      <td>1.129072e+01</td>\n",
       "      <td>2.272764e+01</td>\n",
       "      <td>NaN</td>\n",
       "      <td>2.009638e+03</td>\n",
       "      <td>4.184209e+01</td>\n",
       "      <td>-8.767161e+01</td>\n",
       "    </tr>\n",
       "    <tr>\n",
       "      <th>std</th>\n",
       "      <td>3.419168e+06</td>\n",
       "      <td>NaN</td>\n",
       "      <td>NaN</td>\n",
       "      <td>NaN</td>\n",
       "      <td>NaN</td>\n",
       "      <td>NaN</td>\n",
       "      <td>NaN</td>\n",
       "      <td>NaN</td>\n",
       "      <td>7.026836e+02</td>\n",
       "      <td>6.946692e+00</td>\n",
       "      <td>1.383464e+01</td>\n",
       "      <td>NaN</td>\n",
       "      <td>6.019724e+00</td>\n",
       "      <td>8.830434e-02</td>\n",
       "      <td>6.073538e-02</td>\n",
       "    </tr>\n",
       "    <tr>\n",
       "      <th>min</th>\n",
       "      <td>6.370000e+02</td>\n",
       "      <td>NaN</td>\n",
       "      <td>NaN</td>\n",
       "      <td>NaN</td>\n",
       "      <td>NaN</td>\n",
       "      <td>NaN</td>\n",
       "      <td>NaN</td>\n",
       "      <td>NaN</td>\n",
       "      <td>1.110000e+02</td>\n",
       "      <td>1.000000e+00</td>\n",
       "      <td>1.000000e+00</td>\n",
       "      <td>NaN</td>\n",
       "      <td>2.001000e+03</td>\n",
       "      <td>3.661945e+01</td>\n",
       "      <td>-9.168657e+01</td>\n",
       "    </tr>\n",
       "    <tr>\n",
       "      <th>25%</th>\n",
       "      <td>3.716076e+06</td>\n",
       "      <td>NaN</td>\n",
       "      <td>NaN</td>\n",
       "      <td>NaN</td>\n",
       "      <td>NaN</td>\n",
       "      <td>NaN</td>\n",
       "      <td>NaN</td>\n",
       "      <td>NaN</td>\n",
       "      <td>6.210000e+02</td>\n",
       "      <td>6.000000e+00</td>\n",
       "      <td>1.000000e+01</td>\n",
       "      <td>NaN</td>\n",
       "      <td>2.004000e+03</td>\n",
       "      <td>4.176866e+01</td>\n",
       "      <td>-8.771379e+01</td>\n",
       "    </tr>\n",
       "    <tr>\n",
       "      <th>50%</th>\n",
       "      <td>6.885990e+06</td>\n",
       "      <td>NaN</td>\n",
       "      <td>NaN</td>\n",
       "      <td>NaN</td>\n",
       "      <td>NaN</td>\n",
       "      <td>NaN</td>\n",
       "      <td>NaN</td>\n",
       "      <td>NaN</td>\n",
       "      <td>1.034000e+03</td>\n",
       "      <td>1.000000e+01</td>\n",
       "      <td>2.300000e+01</td>\n",
       "      <td>NaN</td>\n",
       "      <td>2.009000e+03</td>\n",
       "      <td>4.185578e+01</td>\n",
       "      <td>-8.766597e+01</td>\n",
       "    </tr>\n",
       "    <tr>\n",
       "      <th>75%</th>\n",
       "      <td>9.887568e+06</td>\n",
       "      <td>NaN</td>\n",
       "      <td>NaN</td>\n",
       "      <td>NaN</td>\n",
       "      <td>NaN</td>\n",
       "      <td>NaN</td>\n",
       "      <td>NaN</td>\n",
       "      <td>NaN</td>\n",
       "      <td>1.731000e+03</td>\n",
       "      <td>1.700000e+01</td>\n",
       "      <td>3.400000e+01</td>\n",
       "      <td>NaN</td>\n",
       "      <td>2.014000e+03</td>\n",
       "      <td>4.190668e+01</td>\n",
       "      <td>-8.762823e+01</td>\n",
       "    </tr>\n",
       "    <tr>\n",
       "      <th>max</th>\n",
       "      <td>1.278199e+07</td>\n",
       "      <td>NaN</td>\n",
       "      <td>NaN</td>\n",
       "      <td>NaN</td>\n",
       "      <td>NaN</td>\n",
       "      <td>NaN</td>\n",
       "      <td>NaN</td>\n",
       "      <td>NaN</td>\n",
       "      <td>2.535000e+03</td>\n",
       "      <td>3.100000e+01</td>\n",
       "      <td>5.000000e+01</td>\n",
       "      <td>NaN</td>\n",
       "      <td>2.022000e+03</td>\n",
       "      <td>4.202291e+01</td>\n",
       "      <td>-8.752453e+01</td>\n",
       "    </tr>\n",
       "  </tbody>\n",
       "</table>\n",
       "</div>"
      ],
      "text/plain": [
       "                  ID                    Date             Block Primary Type  \\\n",
       "count   2.278726e+06                 2278726           2278726      2278726   \n",
       "unique           NaN                 1343546             54347           35   \n",
       "top              NaN  01/01/2008 12:01:00 AM  100XX W OHARE ST        THEFT   \n",
       "freq             NaN                      81              4878       479375   \n",
       "mean    6.882068e+06                     NaN               NaN          NaN   \n",
       "std     3.419168e+06                     NaN               NaN          NaN   \n",
       "min     6.370000e+02                     NaN               NaN          NaN   \n",
       "25%     3.716076e+06                     NaN               NaN          NaN   \n",
       "50%     6.885990e+06                     NaN               NaN          NaN   \n",
       "75%     9.887568e+06                     NaN               NaN          NaN   \n",
       "max     1.278199e+07                     NaN               NaN          NaN   \n",
       "\n",
       "       Description Location Description   Arrest Domestic          Beat  \\\n",
       "count      2278726              2275849  2278726  2278726  2.278726e+06   \n",
       "unique         515                  198        2        2           NaN   \n",
       "top         SIMPLE               STREET    False    False           NaN   \n",
       "freq        268418               590957  1675252  1965311           NaN   \n",
       "mean           NaN                  NaN      NaN      NaN  1.186442e+03   \n",
       "std            NaN                  NaN      NaN      NaN  7.026836e+02   \n",
       "min            NaN                  NaN      NaN      NaN  1.110000e+02   \n",
       "25%            NaN                  NaN      NaN      NaN  6.210000e+02   \n",
       "50%            NaN                  NaN      NaN      NaN  1.034000e+03   \n",
       "75%            NaN                  NaN      NaN      NaN  1.731000e+03   \n",
       "max            NaN                  NaN      NaN      NaN  2.535000e+03   \n",
       "\n",
       "            District          Ward FBI Code          Year      Latitude  \\\n",
       "count   2.278714e+06  2.094031e+06  2278726  2.278726e+06  2.254741e+06   \n",
       "unique           NaN           NaN       26           NaN           NaN   \n",
       "top              NaN           NaN       06           NaN           NaN   \n",
       "freq             NaN           NaN   479375           NaN           NaN   \n",
       "mean    1.129072e+01  2.272764e+01      NaN  2.009638e+03  4.184209e+01   \n",
       "std     6.946692e+00  1.383464e+01      NaN  6.019724e+00  8.830434e-02   \n",
       "min     1.000000e+00  1.000000e+00      NaN  2.001000e+03  3.661945e+01   \n",
       "25%     6.000000e+00  1.000000e+01      NaN  2.004000e+03  4.176866e+01   \n",
       "50%     1.000000e+01  2.300000e+01      NaN  2.009000e+03  4.185578e+01   \n",
       "75%     1.700000e+01  3.400000e+01      NaN  2.014000e+03  4.190668e+01   \n",
       "max     3.100000e+01  5.000000e+01      NaN  2.022000e+03  4.202291e+01   \n",
       "\n",
       "           Longitude  \n",
       "count   2.254741e+06  \n",
       "unique           NaN  \n",
       "top              NaN  \n",
       "freq             NaN  \n",
       "mean   -8.767161e+01  \n",
       "std     6.073538e-02  \n",
       "min    -9.168657e+01  \n",
       "25%    -8.771379e+01  \n",
       "50%    -8.766597e+01  \n",
       "75%    -8.762823e+01  \n",
       "max    -8.752453e+01  "
      ]
     },
     "execution_count": 12,
     "metadata": {},
     "output_type": "execute_result"
    }
   ],
   "source": [
    "#statistics for each column\n",
    "chicago_crime_df.describe(include='all')"
   ]
  },
  {
   "cell_type": "code",
   "execution_count": 13,
   "id": "00593837",
   "metadata": {
    "ExecuteTime": {
     "end_time": "2024-03-03T12:46:58.098874Z",
     "start_time": "2024-03-03T12:46:57.236860Z"
    }
   },
   "outputs": [
    {
     "data": {
      "text/plain": [
       "ID                           0\n",
       "Date                         0\n",
       "Block                        0\n",
       "Primary Type                 0\n",
       "Description                  0\n",
       "Location Description      2877\n",
       "Arrest                       0\n",
       "Domestic                     0\n",
       "Beat                         0\n",
       "District                    12\n",
       "Ward                    184695\n",
       "FBI Code                     0\n",
       "Year                         0\n",
       "Latitude                 23985\n",
       "Longitude                23985\n",
       "dtype: int64"
      ]
     },
     "execution_count": 13,
     "metadata": {},
     "output_type": "execute_result"
    }
   ],
   "source": [
    "# checking missing value count\n",
    "chicago_crime_df.isnull().sum()"
   ]
  },
  {
   "cell_type": "code",
   "execution_count": 14,
   "id": "a291bd23",
   "metadata": {
    "ExecuteTime": {
     "end_time": "2024-03-03T12:47:04.091010Z",
     "start_time": "2024-03-03T12:47:04.073815Z"
    }
   },
   "outputs": [],
   "source": [
    "# # Missing Values\n",
    "\n",
    "# Function to calculate missing values by column\n",
    "def missing_values_table(df):\n",
    "        # Total missing values\n",
    "        mis_val = df.isnull().sum()\n",
    "        \n",
    "        # Percentage of missing values\n",
    "        mis_val_percent = 100 * df.isnull().sum() / len(df)\n",
    "        \n",
    "        # Make a table with the results\n",
    "        mis_val_table = pd.concat([mis_val, mis_val_percent], axis=1)\n",
    "        \n",
    "        # Rename the columns\n",
    "        mis_val_table_ren_columns = mis_val_table.rename(\n",
    "        columns = {0 : 'Missing Values', 1 : '% of Total Values'})\n",
    "        \n",
    "        # Sort the table by percentage of missing descending\n",
    "        mis_val_table_ren_columns = mis_val_table_ren_columns[\n",
    "            mis_val_table_ren_columns.iloc[:,1] != 0].sort_values(\n",
    "        '% of Total Values', ascending=False).round(1)\n",
    "        \n",
    "        # Print some summary information\n",
    "        print (\"Your selected dataframe has \" + str(df.shape[1]) + \" columns.\\n\"      \n",
    "            \"There are \" + str(mis_val_table_ren_columns.shape[0]) +\n",
    "              \" columns that have missing values.\")\n",
    "        \n",
    "        # Return the dataframe with missing information\n",
    "        return mis_val_table_ren_columns"
   ]
  },
  {
   "cell_type": "code",
   "execution_count": 15,
   "id": "b5f9dc16",
   "metadata": {
    "ExecuteTime": {
     "end_time": "2024-03-03T12:47:06.340047Z",
     "start_time": "2024-03-03T12:47:05.024071Z"
    }
   },
   "outputs": [
    {
     "name": "stdout",
     "output_type": "stream",
     "text": [
      "Your selected dataframe has 15 columns.\n",
      "There are 5 columns that have missing values.\n"
     ]
    },
    {
     "data": {
      "text/html": [
       "<div>\n",
       "<style scoped>\n",
       "    .dataframe tbody tr th:only-of-type {\n",
       "        vertical-align: middle;\n",
       "    }\n",
       "\n",
       "    .dataframe tbody tr th {\n",
       "        vertical-align: top;\n",
       "    }\n",
       "\n",
       "    .dataframe thead th {\n",
       "        text-align: right;\n",
       "    }\n",
       "</style>\n",
       "<table border=\"1\" class=\"dataframe\">\n",
       "  <thead>\n",
       "    <tr style=\"text-align: right;\">\n",
       "      <th></th>\n",
       "      <th>Missing Values</th>\n",
       "      <th>% of Total Values</th>\n",
       "    </tr>\n",
       "  </thead>\n",
       "  <tbody>\n",
       "    <tr>\n",
       "      <th>Ward</th>\n",
       "      <td>184695</td>\n",
       "      <td>8.1</td>\n",
       "    </tr>\n",
       "    <tr>\n",
       "      <th>Latitude</th>\n",
       "      <td>23985</td>\n",
       "      <td>1.1</td>\n",
       "    </tr>\n",
       "    <tr>\n",
       "      <th>Longitude</th>\n",
       "      <td>23985</td>\n",
       "      <td>1.1</td>\n",
       "    </tr>\n",
       "    <tr>\n",
       "      <th>Location Description</th>\n",
       "      <td>2877</td>\n",
       "      <td>0.1</td>\n",
       "    </tr>\n",
       "    <tr>\n",
       "      <th>District</th>\n",
       "      <td>12</td>\n",
       "      <td>0.0</td>\n",
       "    </tr>\n",
       "  </tbody>\n",
       "</table>\n",
       "</div>"
      ],
      "text/plain": [
       "                      Missing Values  % of Total Values\n",
       "Ward                          184695                8.1\n",
       "Latitude                       23985                1.1\n",
       "Longitude                      23985                1.1\n",
       "Location Description            2877                0.1\n",
       "District                          12                0.0"
      ]
     },
     "execution_count": 15,
     "metadata": {},
     "output_type": "execute_result"
    }
   ],
   "source": [
    "missing_values_table(chicago_crime_df)"
   ]
  },
  {
   "cell_type": "markdown",
   "id": "c397ca8d",
   "metadata": {},
   "source": [
    "- __Handling Missing values for the District Column__"
   ]
  },
  {
   "cell_type": "markdown",
   "id": "ec39354a",
   "metadata": {},
   "source": [
    "We have just 12 missing value for the district column which is 0.0% of the entire dataset. We can decide to drop the row where location decription is missing or fill this row with the most crime location."
   ]
  },
  {
   "cell_type": "code",
   "execution_count": null,
   "id": "6ff7dc60",
   "metadata": {},
   "outputs": [],
   "source": [
    "# dropping the missing district column null value\n",
    "# chicago_crime_df.dropna(subset=['District'],inplace=True) "
   ]
  },
  {
   "cell_type": "code",
   "execution_count": 16,
   "id": "c3a883ae",
   "metadata": {
    "ExecuteTime": {
     "end_time": "2024-03-03T12:47:19.788219Z",
     "start_time": "2024-03-03T12:47:19.606894Z"
    }
   },
   "outputs": [
    {
     "data": {
      "text/plain": [
       "array([ 4., 17., 11., 12.,  2., 15., 25., 14.,  8.,  6., 19.,  1.,  7.,\n",
       "       20., 18.,  3.,  9., 22.,  5., 16., 10., 24., 31., nan])"
      ]
     },
     "execution_count": 16,
     "metadata": {},
     "output_type": "execute_result"
    }
   ],
   "source": [
    "chicago_crime_df.District.unique()"
   ]
  },
  {
   "cell_type": "code",
   "execution_count": 17,
   "id": "18fa26eb",
   "metadata": {
    "ExecuteTime": {
     "end_time": "2024-03-03T12:47:20.562765Z",
     "start_time": "2024-03-03T12:47:20.448605Z"
    }
   },
   "outputs": [],
   "source": [
    "# Using the mode to fill up the most common district, then replace it with the current district column\n",
    "most_fq_district = chicago_crime_df.District.mode()[0] # indexing the mode to get the value as it returns a series\n",
    "chicago_crime_df.District = chicago_crime_df.District.fillna(most_fq_district)"
   ]
  },
  {
   "cell_type": "code",
   "execution_count": 18,
   "id": "76e5d81e",
   "metadata": {
    "ExecuteTime": {
     "end_time": "2024-03-03T12:47:21.776733Z",
     "start_time": "2024-03-03T12:47:21.069389Z"
    }
   },
   "outputs": [
    {
     "data": {
      "text/plain": [
       "ID                           0\n",
       "Date                         0\n",
       "Block                        0\n",
       "Primary Type                 0\n",
       "Description                  0\n",
       "Location Description      2877\n",
       "Arrest                       0\n",
       "Domestic                     0\n",
       "Beat                         0\n",
       "District                     0\n",
       "Ward                    184695\n",
       "FBI Code                     0\n",
       "Year                         0\n",
       "Latitude                 23985\n",
       "Longitude                23985\n",
       "dtype: int64"
      ]
     },
     "execution_count": 18,
     "metadata": {},
     "output_type": "execute_result"
    }
   ],
   "source": [
    "chicago_crime_df.isna().sum()"
   ]
  },
  {
   "cell_type": "markdown",
   "id": "302c88b3",
   "metadata": {},
   "source": [
    "- __Handling Missing values for the ward Column__"
   ]
  },
  {
   "cell_type": "code",
   "execution_count": 19,
   "id": "6e0157e2",
   "metadata": {
    "ExecuteTime": {
     "end_time": "2024-03-03T12:50:06.775040Z",
     "start_time": "2024-03-03T12:50:06.658954Z"
    }
   },
   "outputs": [],
   "source": [
    "# Using the mode to fill up the most common Ward, then replace it with the current Ward column\n",
    "most_fq_ward = chicago_crime_df.Ward.mode()[0] # indexing the mode to get the value as it returns a series\n",
    "chicago_crime_df.Ward = chicago_crime_df.Ward.fillna(most_fq_ward)"
   ]
  },
  {
   "cell_type": "code",
   "execution_count": 20,
   "id": "5d73551f",
   "metadata": {
    "ExecuteTime": {
     "end_time": "2024-03-03T12:50:07.939166Z",
     "start_time": "2024-03-03T12:50:07.218080Z"
    }
   },
   "outputs": [
    {
     "data": {
      "text/plain": [
       "ID                          0\n",
       "Date                        0\n",
       "Block                       0\n",
       "Primary Type                0\n",
       "Description                 0\n",
       "Location Description     2877\n",
       "Arrest                      0\n",
       "Domestic                    0\n",
       "Beat                        0\n",
       "District                    0\n",
       "Ward                        0\n",
       "FBI Code                    0\n",
       "Year                        0\n",
       "Latitude                23985\n",
       "Longitude               23985\n",
       "dtype: int64"
      ]
     },
     "execution_count": 20,
     "metadata": {},
     "output_type": "execute_result"
    }
   ],
   "source": [
    "chicago_crime_df.isna().sum()"
   ]
  },
  {
   "cell_type": "markdown",
   "id": "1e1084da",
   "metadata": {},
   "source": [
    "- __Handling Missing values for the latitude and Longitude Column__ (Using Assosciation) <br>\n",
    "    - The assumption here is that the latitude and longitude readings are points that show exact location, are closer to eachother within a district. if they are, we can group our data by districts and fill up missing Latitide and longitude values by the median or mode."
   ]
  },
  {
   "cell_type": "code",
   "execution_count": 21,
   "id": "d1cdf865",
   "metadata": {
    "ExecuteTime": {
     "end_time": "2024-03-03T12:50:12.112831Z",
     "start_time": "2024-03-03T12:50:12.016762Z"
    }
   },
   "outputs": [
    {
     "data": {
      "text/plain": [
       "array([ 4., 17., 11., 12.,  2., 15., 25., 14.,  8.,  6., 19.,  1.,  7.,\n",
       "       20., 18.,  3.,  9., 22.,  5., 16., 10., 24., 31.])"
      ]
     },
     "execution_count": 21,
     "metadata": {},
     "output_type": "execute_result"
    }
   ],
   "source": [
    "chicago_crime_df.District.unique()"
   ]
  },
  {
   "cell_type": "code",
   "execution_count": 22,
   "id": "efa13d39",
   "metadata": {
    "ExecuteTime": {
     "end_time": "2024-03-03T12:50:13.270542Z",
     "start_time": "2024-03-03T12:50:12.876609Z"
    }
   },
   "outputs": [
    {
     "data": {
      "text/html": [
       "<div>\n",
       "<style scoped>\n",
       "    .dataframe tbody tr th:only-of-type {\n",
       "        vertical-align: middle;\n",
       "    }\n",
       "\n",
       "    .dataframe tbody tr th {\n",
       "        vertical-align: top;\n",
       "    }\n",
       "\n",
       "    .dataframe thead th {\n",
       "        text-align: right;\n",
       "    }\n",
       "</style>\n",
       "<table border=\"1\" class=\"dataframe\">\n",
       "  <thead>\n",
       "    <tr style=\"text-align: right;\">\n",
       "      <th></th>\n",
       "      <th>Longitude</th>\n",
       "      <th>Latitude</th>\n",
       "    </tr>\n",
       "  </thead>\n",
       "  <tbody>\n",
       "    <tr>\n",
       "      <th>2</th>\n",
       "      <td>-87.734959</td>\n",
       "      <td>41.994138</td>\n",
       "    </tr>\n",
       "    <tr>\n",
       "      <th>39</th>\n",
       "      <td>-87.724435</td>\n",
       "      <td>41.969395</td>\n",
       "    </tr>\n",
       "    <tr>\n",
       "      <th>47</th>\n",
       "      <td>-87.702085</td>\n",
       "      <td>41.946649</td>\n",
       "    </tr>\n",
       "    <tr>\n",
       "      <th>61</th>\n",
       "      <td>-87.711568</td>\n",
       "      <td>41.949382</td>\n",
       "    </tr>\n",
       "    <tr>\n",
       "      <th>78</th>\n",
       "      <td>-87.711739</td>\n",
       "      <td>41.939300</td>\n",
       "    </tr>\n",
       "    <tr>\n",
       "      <th>...</th>\n",
       "      <td>...</td>\n",
       "      <td>...</td>\n",
       "    </tr>\n",
       "    <tr>\n",
       "      <th>2278640</th>\n",
       "      <td>-87.715225</td>\n",
       "      <td>41.959286</td>\n",
       "    </tr>\n",
       "    <tr>\n",
       "      <th>2278644</th>\n",
       "      <td>-87.713303</td>\n",
       "      <td>41.990332</td>\n",
       "    </tr>\n",
       "    <tr>\n",
       "      <th>2278646</th>\n",
       "      <td>-87.729347</td>\n",
       "      <td>41.958203</td>\n",
       "    </tr>\n",
       "    <tr>\n",
       "      <th>2278677</th>\n",
       "      <td>-87.711331</td>\n",
       "      <td>41.954833</td>\n",
       "    </tr>\n",
       "    <tr>\n",
       "      <th>2278696</th>\n",
       "      <td>-87.729037</td>\n",
       "      <td>41.966044</td>\n",
       "    </tr>\n",
       "  </tbody>\n",
       "</table>\n",
       "<p>65648 rows × 2 columns</p>\n",
       "</div>"
      ],
      "text/plain": [
       "         Longitude   Latitude\n",
       "2       -87.734959  41.994138\n",
       "39      -87.724435  41.969395\n",
       "47      -87.702085  41.946649\n",
       "61      -87.711568  41.949382\n",
       "78      -87.711739  41.939300\n",
       "...            ...        ...\n",
       "2278640 -87.715225  41.959286\n",
       "2278644 -87.713303  41.990332\n",
       "2278646 -87.729347  41.958203\n",
       "2278677 -87.711331  41.954833\n",
       "2278696 -87.729037  41.966044\n",
       "\n",
       "[65648 rows x 2 columns]"
      ]
     },
     "execution_count": 22,
     "metadata": {},
     "output_type": "execute_result"
    }
   ],
   "source": [
    "chicago_crime_df.groupby('District').get_group(17)[['Longitude', 'Latitude']]"
   ]
  },
  {
   "cell_type": "markdown",
   "id": "11138dc3",
   "metadata": {},
   "source": [
    "There appears to be closeness in Latitude points when data is grouped based on districts, we can group based on district and fill up with median or mode."
   ]
  },
  {
   "cell_type": "code",
   "execution_count": 23,
   "id": "af6a82c7",
   "metadata": {
    "ExecuteTime": {
     "end_time": "2024-03-03T12:50:19.453104Z",
     "start_time": "2024-03-03T12:50:18.035525Z"
    }
   },
   "outputs": [],
   "source": [
    "chicago_crime_df['Latitude'] = chicago_crime_df.groupby('District')['Latitude'].transform(lambda x: x.fillna(x.median()))\n",
    "chicago_crime_df['Longitude'] = chicago_crime_df.groupby('District')['Longitude'].transform(lambda x: x.fillna(x.median()))"
   ]
  },
  {
   "cell_type": "code",
   "execution_count": 24,
   "id": "90f0c0e7",
   "metadata": {
    "ExecuteTime": {
     "end_time": "2024-03-03T12:50:20.600904Z",
     "start_time": "2024-03-03T12:50:19.735167Z"
    }
   },
   "outputs": [
    {
     "data": {
      "text/plain": [
       "ID                         0\n",
       "Date                       0\n",
       "Block                      0\n",
       "Primary Type               0\n",
       "Description                0\n",
       "Location Description    2877\n",
       "Arrest                     0\n",
       "Domestic                   0\n",
       "Beat                       0\n",
       "District                   0\n",
       "Ward                       0\n",
       "FBI Code                   0\n",
       "Year                       0\n",
       "Latitude                   0\n",
       "Longitude                  0\n",
       "dtype: int64"
      ]
     },
     "execution_count": 24,
     "metadata": {},
     "output_type": "execute_result"
    }
   ],
   "source": [
    "chicago_crime_df.isna().sum()"
   ]
  },
  {
   "cell_type": "markdown",
   "id": "2e594257",
   "metadata": {},
   "source": [
    "- __Handling Missing values for the Location Description__"
   ]
  },
  {
   "cell_type": "code",
   "execution_count": 25,
   "id": "8a78fc33",
   "metadata": {
    "ExecuteTime": {
     "end_time": "2024-03-03T12:50:22.325132Z",
     "start_time": "2024-03-03T12:50:20.822913Z"
    }
   },
   "outputs": [
    {
     "name": "stdout",
     "output_type": "stream",
     "text": [
      "Your selected dataframe has 15 columns.\n",
      "There are 1 columns that have missing values.\n"
     ]
    },
    {
     "data": {
      "text/html": [
       "<div>\n",
       "<style scoped>\n",
       "    .dataframe tbody tr th:only-of-type {\n",
       "        vertical-align: middle;\n",
       "    }\n",
       "\n",
       "    .dataframe tbody tr th {\n",
       "        vertical-align: top;\n",
       "    }\n",
       "\n",
       "    .dataframe thead th {\n",
       "        text-align: right;\n",
       "    }\n",
       "</style>\n",
       "<table border=\"1\" class=\"dataframe\">\n",
       "  <thead>\n",
       "    <tr style=\"text-align: right;\">\n",
       "      <th></th>\n",
       "      <th>Missing Values</th>\n",
       "      <th>% of Total Values</th>\n",
       "    </tr>\n",
       "  </thead>\n",
       "  <tbody>\n",
       "    <tr>\n",
       "      <th>Location Description</th>\n",
       "      <td>2877</td>\n",
       "      <td>0.1</td>\n",
       "    </tr>\n",
       "  </tbody>\n",
       "</table>\n",
       "</div>"
      ],
      "text/plain": [
       "                      Missing Values  % of Total Values\n",
       "Location Description            2877                0.1"
      ]
     },
     "execution_count": 25,
     "metadata": {},
     "output_type": "execute_result"
    }
   ],
   "source": [
    "missing_values_table(chicago_crime_df)"
   ]
  },
  {
   "cell_type": "markdown",
   "id": "298697b6",
   "metadata": {},
   "source": [
    "We have just 2877 missing value for the location description which is 0.1% of the entire dataset. We can decide to drop the row where location decription is missing or fill this row with the most crime location."
   ]
  },
  {
   "cell_type": "code",
   "execution_count": 26,
   "id": "de77b8fd",
   "metadata": {
    "ExecuteTime": {
     "end_time": "2024-03-03T12:50:23.039457Z",
     "start_time": "2024-03-03T12:50:22.547018Z"
    }
   },
   "outputs": [],
   "source": [
    "# Using the mode to fill up the most common location, then replace it with the current Location description column\n",
    "most_fq_loc = chicago_crime_df['Location Description'].mode()[0] # indexing the mode to get the value as it returns a series\n",
    "chicago_crime_df['Location Description'] = chicago_crime_df['Location Description'].fillna(most_fq_loc)"
   ]
  },
  {
   "cell_type": "code",
   "execution_count": 27,
   "id": "389b8bf8",
   "metadata": {
    "ExecuteTime": {
     "end_time": "2024-03-03T12:50:28.131276Z",
     "start_time": "2024-03-03T12:50:27.352589Z"
    }
   },
   "outputs": [],
   "source": [
    "# dropping the missing location description index row\n",
    "chicago_crime_df.dropna(subset=['Location Description'],inplace=True) "
   ]
  },
  {
   "cell_type": "code",
   "execution_count": 28,
   "id": "3929366a",
   "metadata": {
    "ExecuteTime": {
     "end_time": "2024-03-03T12:50:29.662075Z",
     "start_time": "2024-03-03T12:50:28.901921Z"
    },
    "scrolled": true
   },
   "outputs": [
    {
     "data": {
      "text/plain": [
       "ID                      0\n",
       "Date                    0\n",
       "Block                   0\n",
       "Primary Type            0\n",
       "Description             0\n",
       "Location Description    0\n",
       "Arrest                  0\n",
       "Domestic                0\n",
       "Beat                    0\n",
       "District                0\n",
       "Ward                    0\n",
       "FBI Code                0\n",
       "Year                    0\n",
       "Latitude                0\n",
       "Longitude               0\n",
       "dtype: int64"
      ]
     },
     "execution_count": 28,
     "metadata": {},
     "output_type": "execute_result"
    }
   ],
   "source": [
    "chicago_crime_df.isna().sum()"
   ]
  },
  {
   "cell_type": "code",
   "execution_count": null,
   "id": "55fd2665",
   "metadata": {},
   "outputs": [],
   "source": []
  },
  {
   "cell_type": "markdown",
   "id": "3bd61a94",
   "metadata": {},
   "source": [
    "# 4. Visualize Data Distribution"
   ]
  },
  {
   "cell_type": "code",
   "execution_count": null,
   "id": "566b36e6",
   "metadata": {
    "ExecuteTime": {
     "end_time": "2024-03-03T12:44:32.244979Z",
     "start_time": "2024-03-03T12:44:09.868577Z"
    }
   },
   "outputs": [],
   "source": [
    "import matplotlib.pyplot as plt\n",
    "import seaborn as sns\n",
    "%matplotlib inline"
   ]
  },
  {
   "cell_type": "code",
   "execution_count": null,
   "id": "32104a09",
   "metadata": {
    "ExecuteTime": {
     "end_time": "2024-03-03T11:31:37.046760Z",
     "start_time": "2024-03-03T11:31:32.018563Z"
    }
   },
   "outputs": [],
   "source": [
    "# Visualize the distribution of crime types\n",
    "plt.figure(figsize=(12, 6))\n",
    "sns.countplot(data=chicago_crime_df, x='Primary Type')\n",
    "plt.xticks(rotation=90)\n",
    "plt.title('Distribution of Crime Types')"
   ]
  },
  {
   "cell_type": "code",
   "execution_count": null,
   "id": "fab27bdf",
   "metadata": {},
   "outputs": [],
   "source": []
  },
  {
   "cell_type": "markdown",
   "id": "c5aeb800",
   "metadata": {},
   "source": [
    "# 5. Identify Outliers"
   ]
  },
  {
   "cell_type": "code",
   "execution_count": null,
   "id": "2e4163be",
   "metadata": {},
   "outputs": [],
   "source": []
  },
  {
   "cell_type": "markdown",
   "id": "37f590ac",
   "metadata": {},
   "source": [
    "# 6. Investigate Relationships"
   ]
  },
  {
   "cell_type": "code",
   "execution_count": null,
   "id": "6a8f2a26",
   "metadata": {},
   "outputs": [],
   "source": []
  },
  {
   "cell_type": "markdown",
   "id": "5d889458",
   "metadata": {},
   "source": [
    "# 7. Investigate Crime Types"
   ]
  },
  {
   "cell_type": "code",
   "execution_count": null,
   "id": "cb9bad1b",
   "metadata": {},
   "outputs": [],
   "source": []
  },
  {
   "cell_type": "markdown",
   "id": "21967a8e",
   "metadata": {},
   "source": [
    "# 8. Examine Crime Locations"
   ]
  },
  {
   "cell_type": "code",
   "execution_count": null,
   "id": "3567de5d",
   "metadata": {},
   "outputs": [],
   "source": []
  },
  {
   "cell_type": "markdown",
   "id": "5a5c3518",
   "metadata": {},
   "source": [
    "# 9. Identify Hotspots"
   ]
  },
  {
   "cell_type": "code",
   "execution_count": null,
   "id": "e64b8d72",
   "metadata": {},
   "outputs": [],
   "source": []
  },
  {
   "cell_type": "markdown",
   "id": "681b6774",
   "metadata": {},
   "source": [
    "# 10. Detect Seasonal Patterns"
   ]
  },
  {
   "cell_type": "code",
   "execution_count": null,
   "id": "51b15339",
   "metadata": {},
   "outputs": [],
   "source": []
  },
  {
   "cell_type": "markdown",
   "id": "4dde1d59",
   "metadata": {},
   "source": [
    "# 11. Compare Crime Rates"
   ]
  },
  {
   "cell_type": "code",
   "execution_count": null,
   "id": "c3a8d034",
   "metadata": {},
   "outputs": [],
   "source": []
  },
  {
   "cell_type": "markdown",
   "id": "7dc09827",
   "metadata": {},
   "source": [
    "# 12. Summarize and Visualize Insights"
   ]
  },
  {
   "cell_type": "code",
   "execution_count": null,
   "id": "06a9bffe",
   "metadata": {},
   "outputs": [],
   "source": []
  }
 ],
 "metadata": {
  "kernelspec": {
   "display_name": "Python 3 (ipykernel)",
   "language": "python",
   "name": "python3"
  },
  "language_info": {
   "codemirror_mode": {
    "name": "ipython",
    "version": 3
   },
   "file_extension": ".py",
   "mimetype": "text/x-python",
   "name": "python",
   "nbconvert_exporter": "python",
   "pygments_lexer": "ipython3",
   "version": "3.11.5"
  },
  "toc": {
   "base_numbering": 1,
   "nav_menu": {},
   "number_sections": true,
   "sideBar": true,
   "skip_h1_title": false,
   "title_cell": "Table of Contents",
   "title_sidebar": "Contents",
   "toc_cell": false,
   "toc_position": {},
   "toc_section_display": true,
   "toc_window_display": false
  },
  "varInspector": {
   "cols": {
    "lenName": 16,
    "lenType": 16,
    "lenVar": 40
   },
   "kernels_config": {
    "python": {
     "delete_cmd_postfix": "",
     "delete_cmd_prefix": "del ",
     "library": "var_list.py",
     "varRefreshCmd": "print(var_dic_list())"
    },
    "r": {
     "delete_cmd_postfix": ") ",
     "delete_cmd_prefix": "rm(",
     "library": "var_list.r",
     "varRefreshCmd": "cat(var_dic_list()) "
    }
   },
   "types_to_exclude": [
    "module",
    "function",
    "builtin_function_or_method",
    "instance",
    "_Feature"
   ],
   "window_display": false
  }
 },
 "nbformat": 4,
 "nbformat_minor": 5
}
