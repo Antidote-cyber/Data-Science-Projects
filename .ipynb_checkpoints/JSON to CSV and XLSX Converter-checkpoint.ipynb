{
 "cells": [
  {
   "cell_type": "code",
   "execution_count": 1,
   "id": "8ed2337e-585b-409d-b4a7-c9af71909bb9",
   "metadata": {},
   "outputs": [
    {
     "name": "stdout",
     "output_type": "stream",
     "text": [
      "Requirement already satisfied: openpyxl in c:\\users\\i\\appdata\\local\\programs\\python\\python311\\lib\\site-packages (3.1.2)\n",
      "Requirement already satisfied: et-xmlfile in c:\\users\\i\\appdata\\local\\programs\\python\\python311\\lib\\site-packages (from openpyxl) (1.1.0)\n"
     ]
    }
   ],
   "source": [
    "!pip install openpyxl"
   ]
  },
  {
   "cell_type": "code",
   "execution_count": 2,
   "id": "ca52dd42",
   "metadata": {},
   "outputs": [],
   "source": [
    "import os\n",
    "import json\n",
    "import pandas as pd"
   ]
  },
  {
   "cell_type": "code",
   "execution_count": 3,
   "id": "f2221a16-2eb6-4e6d-9677-4995b058dcc3",
   "metadata": {},
   "outputs": [
    {
     "name": "stdout",
     "output_type": "stream",
     "text": [
      "Converted sample1.json to sample1.xlsx\n",
      "Converted sample2.json to sample2.xlsx\n",
      "Error parsing sample3.json: Expecting property name enclosed in double quotes: line 3 column 3 (char 7)\n",
      "Error occurred on line 3, column 3\n",
      "Offending line: color: \"red\",\n",
      "Converted sample4.json to sample4.xlsx\n"
     ]
    }
   ],
   "source": [
    "# Set the directory containing the JSON files\n",
    "json_dir = './json files' # Please change this to your bulk json folder path\n",
    "\n",
    "# Set the output file format (either 'excel' or 'csv')\n",
    "output_format = 'csv'\n",
    "\n",
    "# Loop through all JSON files in the directory\n",
    "for filename in os.listdir(json_dir):\n",
    "    if filename.endswith('.json'):\n",
    "        # Construct the full file path\n",
    "        file_path = os.path.join(json_dir, filename)\n",
    "        \n",
    "        try:\n",
    "            # Load the JSON data\n",
    "            with open(file_path, 'r', encoding='utf-8') as json_file:\n",
    "                data = json.load(json_file)\n",
    "            \n",
    "            # Convert the JSON data to a pandas DataFrame\n",
    "            df = pd.json_normalize(data)\n",
    "            \n",
    "            # Generate the output file name\n",
    "            base_name = os.path.splitext(filename)[0]\n",
    "            \n",
    "            # Save the DataFrame to the desired output format\n",
    "            if output_format == 'excel':\n",
    "                output_file = f'{base_name}.xlsx'\n",
    "                df.to_excel(output_file, index=False)\n",
    "            elif output_format == 'csv':\n",
    "                output_file = f'{base_name}.csv'\n",
    "                df.to_csv(output_file, index=False)\n",
    "            \n",
    "            print(f'Converted {filename} to {output_file}')\n",
    "# if\n",
    "# The JSON file is malformed\n",
    "# The data being parsed is not JSON\n",
    "# Encoding issues\n",
    "\n",
    "        except json.JSONDecodeError as e: # catch the JSONDecodeError \n",
    "            print(f\"Error parsing {filename}: {e}\") # prints the filename and error message\n",
    "            line_number, column_number = e.lineno, e.colno\n",
    "            print(f\"Error occurred on line {line_number}, column {column_number}\") # prints the line number, column number\n",
    "            with open(file_path, 'r', encoding='utf-8') as json_file:\n",
    "                lines = json_file.readlines()\n",
    "                if line_number <= len(lines):\n",
    "                    print(f\"Offending line: {lines[line_number - 1].strip()}\") # prints the offending line of JSON data."
   ]
  },
  {
   "cell_type": "code",
   "execution_count": null,
   "id": "de698fb5-360e-4b4d-b18d-f574a27ce372",
   "metadata": {},
   "outputs": [],
   "source": []
  }
 ],
 "metadata": {
  "kernelspec": {
   "display_name": "Python 3 (ipykernel)",
   "language": "python",
   "name": "python3"
  },
  "language_info": {
   "codemirror_mode": {
    "name": "ipython",
    "version": 3
   },
   "file_extension": ".py",
   "mimetype": "text/x-python",
   "name": "python",
   "nbconvert_exporter": "python",
   "pygments_lexer": "ipython3",
   "version": "3.11.5"
  },
  "toc": {
   "base_numbering": 1,
   "nav_menu": {},
   "number_sections": true,
   "sideBar": true,
   "skip_h1_title": false,
   "title_cell": "Table of Contents",
   "title_sidebar": "Contents",
   "toc_cell": false,
   "toc_position": {},
   "toc_section_display": true,
   "toc_window_display": false
  }
 },
 "nbformat": 4,
 "nbformat_minor": 5
}
