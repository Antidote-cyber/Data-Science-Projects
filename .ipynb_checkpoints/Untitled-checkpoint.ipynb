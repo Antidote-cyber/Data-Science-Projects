{
 "cells": [
  {
   "cell_type": "code",
   "execution_count": 1,
   "id": "5c79710b",
   "metadata": {},
   "outputs": [],
   "source": [
    "import numpy as np\n",
    "import pandas as pd\n",
    "import matplotlib.pyplot as plt\n",
    "\n",
    "%matplotlib inline"
   ]
  },
  {
   "cell_type": "code",
   "execution_count": null,
   "id": "7d459668",
   "metadata": {},
   "outputs": [],
   "source": [
    "df = pd.read_csv(\"sales_data.csv\", index_col=\"Product\")"
   ]
  },
  {
   "cell_type": "code",
   "execution_count": null,
   "id": "5a0ce3dc",
   "metadata": {},
   "outputs": [],
   "source": [
    "sales_df = sales_df.sort_values(by='Year')"
   ]
  },
  {
   "cell_type": "code",
   "execution_count": null,
   "id": "ef392a18",
   "metadata": {},
   "outputs": [],
   "source": [
    "sales_df"
   ]
  },
  {
   "cell_type": "code",
   "execution_count": null,
   "id": "e98909b2",
   "metadata": {},
   "outputs": [],
   "source": [
    "sales_df.sort_values(by='Year', inplace=True)"
   ]
  },
  {
   "cell_type": "code",
   "execution_count": null,
   "id": "45751df6",
   "metadata": {},
   "outputs": [],
   "source": [
    "months = pd.Series({0:'January',1:'February',2:'March',2:'April',4:'May',5:'June',6:'July',7:'August',8:'September',9:'October',10:'November',11:'December'})"
   ]
  },
  {
   "cell_type": "code",
   "execution_count": null,
   "id": "27658cb7",
   "metadata": {},
   "outputs": [],
   "source": [
    "months"
   ]
  },
  {
   "cell_type": "code",
   "execution_count": null,
   "id": "5ae409d6",
   "metadata": {},
   "outputs": [],
   "source": []
  },
  {
   "cell_type": "code",
   "execution_count": null,
   "id": "52e4ad77",
   "metadata": {
    "scrolled": true
   },
   "outputs": [],
   "source": [
    "df['Month'].value_counts().sort_index(months)"
   ]
  },
  {
   "cell_type": "code",
   "execution_count": null,
   "id": "127b0f9b",
   "metadata": {},
   "outputs": [],
   "source": []
  }
 ],
 "metadata": {
  "kernelspec": {
   "display_name": "Python 3 (ipykernel)",
   "language": "python",
   "name": "python3"
  },
  "language_info": {
   "codemirror_mode": {
    "name": "ipython",
    "version": 3
   },
   "file_extension": ".py",
   "mimetype": "text/x-python",
   "name": "python",
   "nbconvert_exporter": "python",
   "pygments_lexer": "ipython3",
   "version": "3.11.5"
  },
  "toc": {
   "base_numbering": 1,
   "nav_menu": {},
   "number_sections": true,
   "sideBar": true,
   "skip_h1_title": false,
   "title_cell": "Table of Contents",
   "title_sidebar": "Contents",
   "toc_cell": false,
   "toc_position": {},
   "toc_section_display": true,
   "toc_window_display": false
  }
 },
 "nbformat": 4,
 "nbformat_minor": 5
}
