{
 "cells": [
  {
   "cell_type": "markdown",
   "id": "87e4027f",
   "metadata": {},
   "source": [
    "# Youtube Video Downloader"
   ]
  },
  {
   "cell_type": "markdown",
   "id": "bb7d2379",
   "metadata": {},
   "source": [
    "__Do The Following__\n",
    "* Connect to an Internet\n",
    "* Open your Anaconda prompt\n",
    "* Type 'pip install yt-dlp' (lowercase and without quote) and press enter\n",
    "* After download is completed, close your prompt\n",
    "* Restart kernel and Run your code.\n",
    "\n"
   ]
  },
  {
   "cell_type": "code",
   "execution_count": 1,
   "id": "ea5bf95a",
   "metadata": {
    "ExecuteTime": {
     "end_time": "2024-03-16T15:01:01.696847Z",
     "start_time": "2024-03-16T15:00:53.984516Z"
    }
   },
   "outputs": [],
   "source": [
    "# Importing the yt_dlp library, which is used for downloading videos from YouTube.\n",
    "\n",
    "import yt_dlp"
   ]
  },
  {
   "cell_type": "code",
   "execution_count": 2,
   "id": "3c17f977",
   "metadata": {
    "ExecuteTime": {
     "end_time": "2024-03-16T15:01:55.483772Z",
     "start_time": "2024-03-16T15:01:04.999082Z"
    }
   },
   "outputs": [
    {
     "name": "stdout",
     "output_type": "stream",
     "text": [
      "Enter Video url: https://www.youtube.com/watch?v=cxqQS-21KXM\n",
      "[youtube] Extracting URL: https://www.youtube.com/watch?v=cxqQS-21KXM\n",
      "[youtube] cxqQS-21KXM: Downloading webpage\n",
      "[youtube] cxqQS-21KXM: Downloading ios player API JSON\n",
      "[youtube] cxqQS-21KXM: Downloading android player API JSON\n"
     ]
    },
    {
     "name": "stderr",
     "output_type": "stream",
     "text": [
      "WARNING: [youtube] YouTube said: ERROR - Precondition check failed.\n",
      "WARNING: [youtube] HTTP Error 400: Bad Request. Retrying (1/3)...\n"
     ]
    },
    {
     "name": "stdout",
     "output_type": "stream",
     "text": [
      "[youtube] cxqQS-21KXM: Downloading android player API JSON\n"
     ]
    },
    {
     "name": "stderr",
     "output_type": "stream",
     "text": [
      "WARNING: [youtube] YouTube said: ERROR - Precondition check failed.\n",
      "WARNING: [youtube] HTTP Error 400: Bad Request. Retrying (2/3)...\n"
     ]
    },
    {
     "name": "stdout",
     "output_type": "stream",
     "text": [
      "[youtube] cxqQS-21KXM: Downloading android player API JSON\n"
     ]
    },
    {
     "name": "stderr",
     "output_type": "stream",
     "text": [
      "WARNING: [youtube] YouTube said: ERROR - Precondition check failed.\n",
      "WARNING: [youtube] HTTP Error 400: Bad Request. Retrying (3/3)...\n"
     ]
    },
    {
     "name": "stdout",
     "output_type": "stream",
     "text": [
      "[youtube] cxqQS-21KXM: Downloading android player API JSON\n"
     ]
    },
    {
     "name": "stderr",
     "output_type": "stream",
     "text": [
      "WARNING: [youtube] YouTube said: ERROR - Precondition check failed.\n",
      "WARNING: [youtube] Unable to download API page: HTTP Error 400: Bad Request (caused by <HTTPError 400: Bad Request>); please report this issue on  https://github.com/yt-dlp/yt-dlp/issues?q= , filling out the appropriate issue template. Confirm you are on the latest version using  yt-dlp -U\n"
     ]
    },
    {
     "name": "stdout",
     "output_type": "stream",
     "text": [
      "[youtube] cxqQS-21KXM: Downloading player d552837c\n",
      "[youtube] cxqQS-21KXM: Downloading m3u8 information\n",
      "[info] cxqQS-21KXM: Downloading 1 format(s): 22\n",
      "[download] Destination: How to Open a Google Takeout .Mbox File [cxqQS-21KXM].mp4\n",
      "[download] 100% of   17.20MiB in 00:00:32 at 544.24KiB/s   \n",
      "Video downloaded successfully!\n"
     ]
    }
   ],
   "source": [
    "# prompts the user to enter a YouTube video URL. \n",
    "# The input is captured as a string and stored in the variable url.\n",
    "url = input(\"Enter Video url: \") \n",
    "\n",
    "# Initializing an empty dictionary called ydl_config_opts which holds ...\n",
    "# configuration options to the yt_dlp library when downloading videos.\n",
    "# This dictionary is empty because we want to use the library default settings ...\n",
    "# we can as well set our download options by looking up 'yt_dlp video download configuration option'\n",
    "ydl_config_opts = {}\n",
    "\n",
    "# Creating an instance of the YoutubeDL class with the  configuration options specified in ydl_config_opts.\n",
    "with yt_dlp.YoutubeDL(ydl_config_opts) as ydl:\n",
    "    ydl.download([url])\n",
    "    \n",
    "print(\"Video downloaded successfully!\")   # Success Message\n",
    "\n"
   ]
  },
  {
   "cell_type": "markdown",
   "id": "d58a87f0",
   "metadata": {},
   "source": [
    "## **A more Advanced Script can be written as**"
   ]
  },
  {
   "cell_type": "code",
   "execution_count": null,
   "id": "5a120239",
   "metadata": {},
   "outputs": [],
   "source": [
    "# Prompt the user for the video URL\n",
    "url = input(\"Enter Video URL: \")\n",
    "\n",
    "# Define the download location\n",
    "download_location = r\"/path/to/your/download/folder\"  # Change this to your desired folder\n",
    "\n",
    "# Define download options\n",
    "ydl_config_opts = {\n",
    "    'format': 'best',  # Specify the best available video quality\n",
    "    'outtmpl': download_location + '/%(title)s.%(ext)s',  # Set the output path and filename(by default it uses the video title and extension)\n",
    "    'progress_hooks': [lambda d: print(f\"Downloaded {d['_percent_str']} of {d['_total_bytes_str']}\")], # Shows Downlaod Progress\n",
    "    'quiet': False  # Set to True for silent mode, False to provide additional details of the output\n",
    "}\n",
    "\n",
    "# Create a YoutubeDL instance and download the video\n",
    "with yt_dlp.YoutubeDL(ydl_config_opts) as ydl:\n",
    "    ydl.download([url])\n",
    "\n",
    "print(\"Video downloaded successfully!\")  # Success Message\n"
   ]
  },
  {
   "cell_type": "code",
   "execution_count": null,
   "id": "2720608a",
   "metadata": {},
   "outputs": [],
   "source": []
  },
  {
   "cell_type": "code",
   "execution_count": null,
   "id": "eb525a50",
   "metadata": {},
   "outputs": [],
   "source": []
  },
  {
   "cell_type": "code",
   "execution_count": null,
   "id": "8e9801c1",
   "metadata": {},
   "outputs": [],
   "source": []
  },
  {
   "cell_type": "code",
   "execution_count": null,
   "id": "b3d5e533",
   "metadata": {},
   "outputs": [],
   "source": []
  }
 ],
 "metadata": {
  "kernelspec": {
   "display_name": "Python 3 (ipykernel)",
   "language": "python",
   "name": "python3"
  },
  "language_info": {
   "codemirror_mode": {
    "name": "ipython",
    "version": 3
   },
   "file_extension": ".py",
   "mimetype": "text/x-python",
   "name": "python",
   "nbconvert_exporter": "python",
   "pygments_lexer": "ipython3",
   "version": "3.11.5"
  },
  "toc": {
   "base_numbering": 1,
   "nav_menu": {},
   "number_sections": true,
   "sideBar": true,
   "skip_h1_title": false,
   "title_cell": "Table of Contents",
   "title_sidebar": "Contents",
   "toc_cell": false,
   "toc_position": {},
   "toc_section_display": true,
   "toc_window_display": false
  },
  "varInspector": {
   "cols": {
    "lenName": 16,
    "lenType": 16,
    "lenVar": 40
   },
   "kernels_config": {
    "python": {
     "delete_cmd_postfix": "",
     "delete_cmd_prefix": "del ",
     "library": "var_list.py",
     "varRefreshCmd": "print(var_dic_list())"
    },
    "r": {
     "delete_cmd_postfix": ") ",
     "delete_cmd_prefix": "rm(",
     "library": "var_list.r",
     "varRefreshCmd": "cat(var_dic_list()) "
    }
   },
   "types_to_exclude": [
    "module",
    "function",
    "builtin_function_or_method",
    "instance",
    "_Feature"
   ],
   "window_display": false
  }
 },
 "nbformat": 4,
 "nbformat_minor": 5
}
