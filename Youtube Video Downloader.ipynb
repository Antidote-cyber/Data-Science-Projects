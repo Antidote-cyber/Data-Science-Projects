{
 "cells": [
  {
   "cell_type": "markdown",
   "id": "87e4027f",
   "metadata": {},
   "source": [
    "# Youtube Video Downloader"
   ]
  },
  {
   "cell_type": "markdown",
   "id": "bb7d2379",
   "metadata": {},
   "source": [
    "__Do The Following__\n",
    "* Connect to an Internet\n",
    "* Open your Anaconda prompt\n",
    "* Type 'pip install yt-dlp' (lowercase and without quote) and press enter\n",
    "* After download is completed, close your prompt\n",
    "* Restart kernel and Run your code.\n",
    "\n"
   ]
  },
  {
   "cell_type": "code",
   "execution_count": 1,
   "id": "ea5bf95a",
   "metadata": {},
   "outputs": [],
   "source": [
    "# Importing the yt_dlp library, which is used for downloading videos from YouTube.\n",
    "\n",
    "import yt_dlp"
   ]
  },
  {
   "cell_type": "code",
   "execution_count": 3,
   "id": "3c17f977",
   "metadata": {},
   "outputs": [
    {
     "name": "stdout",
     "output_type": "stream",
     "text": [
      "Enter Video url: https://youtu.be/RGOj5yH7evk?si=QwFDZ-G2zT4a7PEp\n",
      "[youtube] Extracting URL: https://youtu.be/RGOj5yH7evk?si=QwFDZ-G2zT4a7PEp\n",
      "[youtube] RGOj5yH7evk: Downloading webpage\n",
      "[youtube] RGOj5yH7evk: Downloading ios player API JSON\n"
     ]
    },
    {
     "name": "stderr",
     "output_type": "stream",
     "text": [
      "WARNING: [youtube] Remote end closed connection without response. Retrying (1/3)...\n"
     ]
    },
    {
     "name": "stdout",
     "output_type": "stream",
     "text": [
      "[youtube] RGOj5yH7evk: Downloading ios player API JSON\n",
      "[youtube] RGOj5yH7evk: Downloading android player API JSON\n",
      "[youtube] RGOj5yH7evk: Downloading m3u8 information\n"
     ]
    },
    {
     "name": "stderr",
     "output_type": "stream",
     "text": [
      "WARNING: [youtube] Failed to download m3u8 information: Remote end closed connection without response\n"
     ]
    },
    {
     "name": "stdout",
     "output_type": "stream",
     "text": [
      "[info] RGOj5yH7evk: Downloading 1 format(s): 22\n",
      "[download] Resuming download at byte 7786684\n",
      "[download] Destination: Git and GitHub for Beginners - Crash Course [RGOj5yH7evk].mp4\n",
      "[download]  10.7% of   83.42MiB at   10.55KiB/s ETA 02:00:32"
     ]
    },
    {
     "name": "stderr",
     "output_type": "stream",
     "text": [
      "ERROR: \r",
      "[download] Got error: The read operation timed out\n"
     ]
    },
    {
     "ename": "DownloadError",
     "evalue": "ERROR: \r[download] Got error: The read operation timed out",
     "output_type": "error",
     "traceback": [
      "\u001b[1;31m---------------------------------------------------------------------------\u001b[0m",
      "\u001b[1;31mDownloadError\u001b[0m                             Traceback (most recent call last)",
      "Cell \u001b[1;32mIn[3], line 13\u001b[0m\n\u001b[0;32m     11\u001b[0m \u001b[38;5;66;03m# Creating an instance of the YoutubeDL class with the  configuration options specified in ydl_config_opts.\u001b[39;00m\n\u001b[0;32m     12\u001b[0m \u001b[38;5;28;01mwith\u001b[39;00m yt_dlp\u001b[38;5;241m.\u001b[39mYoutubeDL(ydl_config_opts) \u001b[38;5;28;01mas\u001b[39;00m ydl:\n\u001b[1;32m---> 13\u001b[0m     ydl\u001b[38;5;241m.\u001b[39mdownload([url])\n\u001b[0;32m     15\u001b[0m \u001b[38;5;28mprint\u001b[39m(\u001b[38;5;124m\"\u001b[39m\u001b[38;5;124mVideo downloaded successfully!\u001b[39m\u001b[38;5;124m\"\u001b[39m)\n",
      "File \u001b[1;32m~\\anaconda3\\Lib\\site-packages\\yt_dlp\\YoutubeDL.py:3510\u001b[0m, in \u001b[0;36mYoutubeDL.download\u001b[1;34m(self, url_list)\u001b[0m\n\u001b[0;32m   3507\u001b[0m     \u001b[38;5;28;01mraise\u001b[39;00m SameFileError(outtmpl)\n\u001b[0;32m   3509\u001b[0m \u001b[38;5;28;01mfor\u001b[39;00m url \u001b[38;5;129;01min\u001b[39;00m url_list:\n\u001b[1;32m-> 3510\u001b[0m     \u001b[38;5;28mself\u001b[39m\u001b[38;5;241m.\u001b[39m__download_wrapper(\u001b[38;5;28mself\u001b[39m\u001b[38;5;241m.\u001b[39mextract_info)(\n\u001b[0;32m   3511\u001b[0m         url, force_generic_extractor\u001b[38;5;241m=\u001b[39m\u001b[38;5;28mself\u001b[39m\u001b[38;5;241m.\u001b[39mparams\u001b[38;5;241m.\u001b[39mget(\u001b[38;5;124m'\u001b[39m\u001b[38;5;124mforce_generic_extractor\u001b[39m\u001b[38;5;124m'\u001b[39m, \u001b[38;5;28;01mFalse\u001b[39;00m))\n\u001b[0;32m   3513\u001b[0m \u001b[38;5;28;01mreturn\u001b[39;00m \u001b[38;5;28mself\u001b[39m\u001b[38;5;241m.\u001b[39m_download_retcode\n",
      "File \u001b[1;32m~\\anaconda3\\Lib\\site-packages\\yt_dlp\\YoutubeDL.py:3485\u001b[0m, in \u001b[0;36mYoutubeDL.__download_wrapper.<locals>.wrapper\u001b[1;34m(*args, **kwargs)\u001b[0m\n\u001b[0;32m   3482\u001b[0m \u001b[38;5;129m@functools\u001b[39m\u001b[38;5;241m.\u001b[39mwraps(func)\n\u001b[0;32m   3483\u001b[0m \u001b[38;5;28;01mdef\u001b[39;00m \u001b[38;5;21mwrapper\u001b[39m(\u001b[38;5;241m*\u001b[39margs, \u001b[38;5;241m*\u001b[39m\u001b[38;5;241m*\u001b[39mkwargs):\n\u001b[0;32m   3484\u001b[0m     \u001b[38;5;28;01mtry\u001b[39;00m:\n\u001b[1;32m-> 3485\u001b[0m         res \u001b[38;5;241m=\u001b[39m func(\u001b[38;5;241m*\u001b[39margs, \u001b[38;5;241m*\u001b[39m\u001b[38;5;241m*\u001b[39mkwargs)\n\u001b[0;32m   3486\u001b[0m     \u001b[38;5;28;01mexcept\u001b[39;00m UnavailableVideoError \u001b[38;5;28;01mas\u001b[39;00m e:\n\u001b[0;32m   3487\u001b[0m         \u001b[38;5;28mself\u001b[39m\u001b[38;5;241m.\u001b[39mreport_error(e)\n",
      "File \u001b[1;32m~\\anaconda3\\Lib\\site-packages\\yt_dlp\\YoutubeDL.py:1556\u001b[0m, in \u001b[0;36mYoutubeDL.extract_info\u001b[1;34m(self, url, download, ie_key, extra_info, process, force_generic_extractor)\u001b[0m\n\u001b[0;32m   1554\u001b[0m             \u001b[38;5;28;01mraise\u001b[39;00m ExistingVideoReached()\n\u001b[0;32m   1555\u001b[0m         \u001b[38;5;28;01mbreak\u001b[39;00m\n\u001b[1;32m-> 1556\u001b[0m     \u001b[38;5;28;01mreturn\u001b[39;00m \u001b[38;5;28mself\u001b[39m\u001b[38;5;241m.\u001b[39m__extract_info(url, \u001b[38;5;28mself\u001b[39m\u001b[38;5;241m.\u001b[39mget_info_extractor(key), download, extra_info, process)\n\u001b[0;32m   1557\u001b[0m \u001b[38;5;28;01melse\u001b[39;00m:\n\u001b[0;32m   1558\u001b[0m     extractors_restricted \u001b[38;5;241m=\u001b[39m \u001b[38;5;28mself\u001b[39m\u001b[38;5;241m.\u001b[39mparams\u001b[38;5;241m.\u001b[39mget(\u001b[38;5;124m'\u001b[39m\u001b[38;5;124mallowed_extractors\u001b[39m\u001b[38;5;124m'\u001b[39m) \u001b[38;5;129;01mnot\u001b[39;00m \u001b[38;5;129;01min\u001b[39;00m (\u001b[38;5;28;01mNone\u001b[39;00m, [\u001b[38;5;124m'\u001b[39m\u001b[38;5;124mdefault\u001b[39m\u001b[38;5;124m'\u001b[39m])\n",
      "File \u001b[1;32m~\\anaconda3\\Lib\\site-packages\\yt_dlp\\YoutubeDL.py:1567\u001b[0m, in \u001b[0;36mYoutubeDL._handle_extraction_exceptions.<locals>.wrapper\u001b[1;34m(self, *args, **kwargs)\u001b[0m\n\u001b[0;32m   1565\u001b[0m \u001b[38;5;28;01mwhile\u001b[39;00m \u001b[38;5;28;01mTrue\u001b[39;00m:\n\u001b[0;32m   1566\u001b[0m     \u001b[38;5;28;01mtry\u001b[39;00m:\n\u001b[1;32m-> 1567\u001b[0m         \u001b[38;5;28;01mreturn\u001b[39;00m func(\u001b[38;5;28mself\u001b[39m, \u001b[38;5;241m*\u001b[39margs, \u001b[38;5;241m*\u001b[39m\u001b[38;5;241m*\u001b[39mkwargs)\n\u001b[0;32m   1568\u001b[0m     \u001b[38;5;28;01mexcept\u001b[39;00m (DownloadCancelled, LazyList\u001b[38;5;241m.\u001b[39mIndexError, PagedList\u001b[38;5;241m.\u001b[39mIndexError):\n\u001b[0;32m   1569\u001b[0m         \u001b[38;5;28;01mraise\u001b[39;00m\n",
      "File \u001b[1;32m~\\anaconda3\\Lib\\site-packages\\yt_dlp\\YoutubeDL.py:1723\u001b[0m, in \u001b[0;36mYoutubeDL.__extract_info\u001b[1;34m(self, url, ie, download, extra_info, process)\u001b[0m\n\u001b[0;32m   1721\u001b[0m \u001b[38;5;28;01mif\u001b[39;00m process:\n\u001b[0;32m   1722\u001b[0m     \u001b[38;5;28mself\u001b[39m\u001b[38;5;241m.\u001b[39m_wait_for_video(ie_result)\n\u001b[1;32m-> 1723\u001b[0m     \u001b[38;5;28;01mreturn\u001b[39;00m \u001b[38;5;28mself\u001b[39m\u001b[38;5;241m.\u001b[39mprocess_ie_result(ie_result, download, extra_info)\n\u001b[0;32m   1724\u001b[0m \u001b[38;5;28;01melse\u001b[39;00m:\n\u001b[0;32m   1725\u001b[0m     \u001b[38;5;28;01mreturn\u001b[39;00m ie_result\n",
      "File \u001b[1;32m~\\anaconda3\\Lib\\site-packages\\yt_dlp\\YoutubeDL.py:1782\u001b[0m, in \u001b[0;36mYoutubeDL.process_ie_result\u001b[1;34m(self, ie_result, download, extra_info)\u001b[0m\n\u001b[0;32m   1780\u001b[0m \u001b[38;5;28;01mif\u001b[39;00m result_type \u001b[38;5;241m==\u001b[39m \u001b[38;5;124m'\u001b[39m\u001b[38;5;124mvideo\u001b[39m\u001b[38;5;124m'\u001b[39m:\n\u001b[0;32m   1781\u001b[0m     \u001b[38;5;28mself\u001b[39m\u001b[38;5;241m.\u001b[39madd_extra_info(ie_result, extra_info)\n\u001b[1;32m-> 1782\u001b[0m     ie_result \u001b[38;5;241m=\u001b[39m \u001b[38;5;28mself\u001b[39m\u001b[38;5;241m.\u001b[39mprocess_video_result(ie_result, download\u001b[38;5;241m=\u001b[39mdownload)\n\u001b[0;32m   1783\u001b[0m     \u001b[38;5;28mself\u001b[39m\u001b[38;5;241m.\u001b[39m_raise_pending_errors(ie_result)\n\u001b[0;32m   1784\u001b[0m     additional_urls \u001b[38;5;241m=\u001b[39m (ie_result \u001b[38;5;129;01mor\u001b[39;00m {})\u001b[38;5;241m.\u001b[39mget(\u001b[38;5;124m'\u001b[39m\u001b[38;5;124madditional_urls\u001b[39m\u001b[38;5;124m'\u001b[39m)\n",
      "File \u001b[1;32m~\\anaconda3\\Lib\\site-packages\\yt_dlp\\YoutubeDL.py:2921\u001b[0m, in \u001b[0;36mYoutubeDL.process_video_result\u001b[1;34m(self, info_dict, download)\u001b[0m\n\u001b[0;32m   2919\u001b[0m downloaded_formats\u001b[38;5;241m.\u001b[39mappend(new_info)\n\u001b[0;32m   2920\u001b[0m \u001b[38;5;28;01mtry\u001b[39;00m:\n\u001b[1;32m-> 2921\u001b[0m     \u001b[38;5;28mself\u001b[39m\u001b[38;5;241m.\u001b[39mprocess_info(new_info)\n\u001b[0;32m   2922\u001b[0m \u001b[38;5;28;01mexcept\u001b[39;00m MaxDownloadsReached:\n\u001b[0;32m   2923\u001b[0m     max_downloads_reached \u001b[38;5;241m=\u001b[39m \u001b[38;5;28;01mTrue\u001b[39;00m\n",
      "File \u001b[1;32m~\\anaconda3\\Lib\\site-packages\\yt_dlp\\YoutubeDL.py:3387\u001b[0m, in \u001b[0;36mYoutubeDL.process_info\u001b[1;34m(self, info_dict)\u001b[0m\n\u001b[0;32m   3383\u001b[0m dl_filename \u001b[38;5;241m=\u001b[39m existing_video_file(full_filename, temp_filename)\n\u001b[0;32m   3384\u001b[0m \u001b[38;5;28;01mif\u001b[39;00m dl_filename \u001b[38;5;129;01mis\u001b[39;00m \u001b[38;5;28;01mNone\u001b[39;00m \u001b[38;5;129;01mor\u001b[39;00m dl_filename \u001b[38;5;241m==\u001b[39m temp_filename:\n\u001b[0;32m   3385\u001b[0m     \u001b[38;5;66;03m# dl_filename == temp_filename could mean that the file was partially downloaded with --no-part.\u001b[39;00m\n\u001b[0;32m   3386\u001b[0m     \u001b[38;5;66;03m# So we should try to resume the download\u001b[39;00m\n\u001b[1;32m-> 3387\u001b[0m     success, real_download \u001b[38;5;241m=\u001b[39m \u001b[38;5;28mself\u001b[39m\u001b[38;5;241m.\u001b[39mdl(temp_filename, info_dict)\n\u001b[0;32m   3388\u001b[0m     info_dict[\u001b[38;5;124m'\u001b[39m\u001b[38;5;124m__real_download\u001b[39m\u001b[38;5;124m'\u001b[39m] \u001b[38;5;241m=\u001b[39m real_download\n\u001b[0;32m   3389\u001b[0m \u001b[38;5;28;01melse\u001b[39;00m:\n",
      "File \u001b[1;32m~\\anaconda3\\Lib\\site-packages\\yt_dlp\\YoutubeDL.py:3108\u001b[0m, in \u001b[0;36mYoutubeDL.dl\u001b[1;34m(self, name, info, subtitle, test)\u001b[0m\n\u001b[0;32m   3106\u001b[0m \u001b[38;5;28;01mif\u001b[39;00m new_info\u001b[38;5;241m.\u001b[39mget(\u001b[38;5;124m'\u001b[39m\u001b[38;5;124mhttp_headers\u001b[39m\u001b[38;5;124m'\u001b[39m) \u001b[38;5;129;01mis\u001b[39;00m \u001b[38;5;28;01mNone\u001b[39;00m:\n\u001b[0;32m   3107\u001b[0m     new_info[\u001b[38;5;124m'\u001b[39m\u001b[38;5;124mhttp_headers\u001b[39m\u001b[38;5;124m'\u001b[39m] \u001b[38;5;241m=\u001b[39m \u001b[38;5;28mself\u001b[39m\u001b[38;5;241m.\u001b[39m_calc_headers(new_info)\n\u001b[1;32m-> 3108\u001b[0m \u001b[38;5;28;01mreturn\u001b[39;00m fd\u001b[38;5;241m.\u001b[39mdownload(name, new_info, subtitle)\n",
      "File \u001b[1;32m~\\anaconda3\\Lib\\site-packages\\yt_dlp\\downloader\\common.py:455\u001b[0m, in \u001b[0;36mFileDownloader.download\u001b[1;34m(self, filename, info_dict, subtitle)\u001b[0m\n\u001b[0;32m    452\u001b[0m     \u001b[38;5;28mself\u001b[39m\u001b[38;5;241m.\u001b[39mto_screen(\u001b[38;5;124mf\u001b[39m\u001b[38;5;124m'\u001b[39m\u001b[38;5;124m[download] Sleeping \u001b[39m\u001b[38;5;132;01m{\u001b[39;00msleep_interval\u001b[38;5;132;01m:\u001b[39;00m\u001b[38;5;124m.2f\u001b[39m\u001b[38;5;132;01m}\u001b[39;00m\u001b[38;5;124m seconds ...\u001b[39m\u001b[38;5;124m'\u001b[39m)\n\u001b[0;32m    453\u001b[0m     time\u001b[38;5;241m.\u001b[39msleep(sleep_interval)\n\u001b[1;32m--> 455\u001b[0m ret \u001b[38;5;241m=\u001b[39m \u001b[38;5;28mself\u001b[39m\u001b[38;5;241m.\u001b[39mreal_download(filename, info_dict)\n\u001b[0;32m    456\u001b[0m \u001b[38;5;28mself\u001b[39m\u001b[38;5;241m.\u001b[39m_finish_multiline_status()\n\u001b[0;32m    457\u001b[0m \u001b[38;5;28;01mreturn\u001b[39;00m ret, \u001b[38;5;28;01mTrue\u001b[39;00m\n",
      "File \u001b[1;32m~\\anaconda3\\Lib\\site-packages\\yt_dlp\\downloader\\http.py:362\u001b[0m, in \u001b[0;36mHttpFD.real_download\u001b[1;34m(self, filename, info_dict)\u001b[0m\n\u001b[0;32m    351\u001b[0m     \u001b[38;5;28mself\u001b[39m\u001b[38;5;241m.\u001b[39m_hook_progress({\n\u001b[0;32m    352\u001b[0m         \u001b[38;5;124m'\u001b[39m\u001b[38;5;124mdownloaded_bytes\u001b[39m\u001b[38;5;124m'\u001b[39m: byte_counter,\n\u001b[0;32m    353\u001b[0m         \u001b[38;5;124m'\u001b[39m\u001b[38;5;124mtotal_bytes\u001b[39m\u001b[38;5;124m'\u001b[39m: byte_counter,\n\u001b[1;32m   (...)\u001b[0m\n\u001b[0;32m    357\u001b[0m         \u001b[38;5;124m'\u001b[39m\u001b[38;5;124mctx_id\u001b[39m\u001b[38;5;124m'\u001b[39m: info_dict\u001b[38;5;241m.\u001b[39mget(\u001b[38;5;124m'\u001b[39m\u001b[38;5;124mctx_id\u001b[39m\u001b[38;5;124m'\u001b[39m),\n\u001b[0;32m    358\u001b[0m     }, info_dict)\n\u001b[0;32m    360\u001b[0m     \u001b[38;5;28;01mreturn\u001b[39;00m \u001b[38;5;28;01mTrue\u001b[39;00m\n\u001b[1;32m--> 362\u001b[0m \u001b[38;5;28;01mfor\u001b[39;00m retry \u001b[38;5;129;01min\u001b[39;00m RetryManager(\u001b[38;5;28mself\u001b[39m\u001b[38;5;241m.\u001b[39mparams\u001b[38;5;241m.\u001b[39mget(\u001b[38;5;124m'\u001b[39m\u001b[38;5;124mretries\u001b[39m\u001b[38;5;124m'\u001b[39m), \u001b[38;5;28mself\u001b[39m\u001b[38;5;241m.\u001b[39mreport_retry):\n\u001b[0;32m    363\u001b[0m     \u001b[38;5;28;01mtry\u001b[39;00m:\n\u001b[0;32m    364\u001b[0m         establish_connection()\n",
      "File \u001b[1;32m~\\anaconda3\\Lib\\site-packages\\yt_dlp\\utils\\_utils.py:5114\u001b[0m, in \u001b[0;36mRetryManager.__iter__\u001b[1;34m(self)\u001b[0m\n\u001b[0;32m   5112\u001b[0m \u001b[38;5;28;01myield\u001b[39;00m \u001b[38;5;28mself\u001b[39m\n\u001b[0;32m   5113\u001b[0m \u001b[38;5;28;01mif\u001b[39;00m \u001b[38;5;28mself\u001b[39m\u001b[38;5;241m.\u001b[39merror:\n\u001b[1;32m-> 5114\u001b[0m     \u001b[38;5;28mself\u001b[39m\u001b[38;5;241m.\u001b[39merror_callback(\u001b[38;5;28mself\u001b[39m\u001b[38;5;241m.\u001b[39merror, \u001b[38;5;28mself\u001b[39m\u001b[38;5;241m.\u001b[39mattempt, \u001b[38;5;28mself\u001b[39m\u001b[38;5;241m.\u001b[39mretries)\n",
      "File \u001b[1;32m~\\anaconda3\\Lib\\site-packages\\yt_dlp\\downloader\\common.py:401\u001b[0m, in \u001b[0;36mFileDownloader.report_retry\u001b[1;34m(self, err, count, retries, frag_index, fatal)\u001b[0m\n\u001b[0;32m    399\u001b[0m \u001b[38;5;250m\u001b[39m\u001b[38;5;124;03m\"\"\"Report retry\"\"\"\u001b[39;00m\n\u001b[0;32m    400\u001b[0m is_frag \u001b[38;5;241m=\u001b[39m \u001b[38;5;28;01mFalse\u001b[39;00m \u001b[38;5;28;01mif\u001b[39;00m frag_index \u001b[38;5;129;01mis\u001b[39;00m NO_DEFAULT \u001b[38;5;28;01melse\u001b[39;00m \u001b[38;5;124m'\u001b[39m\u001b[38;5;124mfragment\u001b[39m\u001b[38;5;124m'\u001b[39m\n\u001b[1;32m--> 401\u001b[0m RetryManager\u001b[38;5;241m.\u001b[39mreport_retry(\n\u001b[0;32m    402\u001b[0m     err, count, retries, info\u001b[38;5;241m=\u001b[39m\u001b[38;5;28mself\u001b[39m\u001b[38;5;241m.\u001b[39m__to_screen,\n\u001b[0;32m    403\u001b[0m     warn\u001b[38;5;241m=\u001b[39m\u001b[38;5;28;01mlambda\u001b[39;00m msg: \u001b[38;5;28mself\u001b[39m\u001b[38;5;241m.\u001b[39m__to_screen(\u001b[38;5;124mf\u001b[39m\u001b[38;5;124m'\u001b[39m\u001b[38;5;124m[download] Got error: \u001b[39m\u001b[38;5;132;01m{\u001b[39;00mmsg\u001b[38;5;132;01m}\u001b[39;00m\u001b[38;5;124m'\u001b[39m),\n\u001b[0;32m    404\u001b[0m     error\u001b[38;5;241m=\u001b[39mIDENTITY \u001b[38;5;28;01mif\u001b[39;00m \u001b[38;5;129;01mnot\u001b[39;00m fatal \u001b[38;5;28;01melse\u001b[39;00m \u001b[38;5;28;01mlambda\u001b[39;00m e: \u001b[38;5;28mself\u001b[39m\u001b[38;5;241m.\u001b[39mreport_error(\u001b[38;5;124mf\u001b[39m\u001b[38;5;124m'\u001b[39m\u001b[38;5;130;01m\\r\u001b[39;00m\u001b[38;5;124m[download] Got error: \u001b[39m\u001b[38;5;132;01m{\u001b[39;00me\u001b[38;5;132;01m}\u001b[39;00m\u001b[38;5;124m'\u001b[39m),\n\u001b[0;32m    405\u001b[0m     sleep_func\u001b[38;5;241m=\u001b[39m\u001b[38;5;28mself\u001b[39m\u001b[38;5;241m.\u001b[39mparams\u001b[38;5;241m.\u001b[39mget(\u001b[38;5;124m'\u001b[39m\u001b[38;5;124mretry_sleep_functions\u001b[39m\u001b[38;5;124m'\u001b[39m, {})\u001b[38;5;241m.\u001b[39mget(is_frag \u001b[38;5;129;01mor\u001b[39;00m \u001b[38;5;124m'\u001b[39m\u001b[38;5;124mhttp\u001b[39m\u001b[38;5;124m'\u001b[39m),\n\u001b[0;32m    406\u001b[0m     suffix\u001b[38;5;241m=\u001b[39m\u001b[38;5;124mf\u001b[39m\u001b[38;5;124m'\u001b[39m\u001b[38;5;124mfragment\u001b[39m\u001b[38;5;132;01m{\u001b[39;00m\u001b[38;5;124m\"\u001b[39m\u001b[38;5;124ms\u001b[39m\u001b[38;5;124m\"\u001b[39m\u001b[38;5;250m \u001b[39m\u001b[38;5;28;01mif\u001b[39;00m\u001b[38;5;250m \u001b[39mfrag_index\u001b[38;5;250m \u001b[39m\u001b[38;5;129;01mis\u001b[39;00m\u001b[38;5;250m \u001b[39m\u001b[38;5;28;01mNone\u001b[39;00m\u001b[38;5;250m \u001b[39m\u001b[38;5;28;01melse\u001b[39;00m\u001b[38;5;250m \u001b[39m\u001b[38;5;124mf\u001b[39m\u001b[38;5;124m\"\u001b[39m\u001b[38;5;124m \u001b[39m\u001b[38;5;132;01m{\u001b[39;00mfrag_index\u001b[38;5;132;01m}\u001b[39;00m\u001b[38;5;124m\"\u001b[39m\u001b[38;5;132;01m}\u001b[39;00m\u001b[38;5;124m'\u001b[39m \u001b[38;5;28;01mif\u001b[39;00m is_frag \u001b[38;5;28;01melse\u001b[39;00m \u001b[38;5;28;01mNone\u001b[39;00m)\n",
      "File \u001b[1;32m~\\anaconda3\\Lib\\site-packages\\yt_dlp\\utils\\_utils.py:5121\u001b[0m, in \u001b[0;36mRetryManager.report_retry\u001b[1;34m(e, count, retries, sleep_func, info, warn, error, suffix)\u001b[0m\n\u001b[0;32m   5119\u001b[0m \u001b[38;5;28;01mif\u001b[39;00m count \u001b[38;5;241m>\u001b[39m retries:\n\u001b[0;32m   5120\u001b[0m     \u001b[38;5;28;01mif\u001b[39;00m error:\n\u001b[1;32m-> 5121\u001b[0m         \u001b[38;5;28;01mreturn\u001b[39;00m error(\u001b[38;5;124mf\u001b[39m\u001b[38;5;124m'\u001b[39m\u001b[38;5;132;01m{\u001b[39;00me\u001b[38;5;132;01m}\u001b[39;00m\u001b[38;5;124m. Giving up after \u001b[39m\u001b[38;5;132;01m{\u001b[39;00mcount\u001b[38;5;250m \u001b[39m\u001b[38;5;241m-\u001b[39m\u001b[38;5;250m \u001b[39m\u001b[38;5;241m1\u001b[39m\u001b[38;5;132;01m}\u001b[39;00m\u001b[38;5;124m retries\u001b[39m\u001b[38;5;124m'\u001b[39m) \u001b[38;5;28;01mif\u001b[39;00m count \u001b[38;5;241m>\u001b[39m \u001b[38;5;241m1\u001b[39m \u001b[38;5;28;01melse\u001b[39;00m error(\u001b[38;5;28mstr\u001b[39m(e))\n\u001b[0;32m   5122\u001b[0m     \u001b[38;5;28;01mraise\u001b[39;00m e\n\u001b[0;32m   5124\u001b[0m \u001b[38;5;28;01mif\u001b[39;00m \u001b[38;5;129;01mnot\u001b[39;00m count:\n",
      "File \u001b[1;32m~\\anaconda3\\Lib\\site-packages\\yt_dlp\\downloader\\common.py:404\u001b[0m, in \u001b[0;36mFileDownloader.report_retry.<locals>.<lambda>\u001b[1;34m(e)\u001b[0m\n\u001b[0;32m    399\u001b[0m \u001b[38;5;250m\u001b[39m\u001b[38;5;124;03m\"\"\"Report retry\"\"\"\u001b[39;00m\n\u001b[0;32m    400\u001b[0m is_frag \u001b[38;5;241m=\u001b[39m \u001b[38;5;28;01mFalse\u001b[39;00m \u001b[38;5;28;01mif\u001b[39;00m frag_index \u001b[38;5;129;01mis\u001b[39;00m NO_DEFAULT \u001b[38;5;28;01melse\u001b[39;00m \u001b[38;5;124m'\u001b[39m\u001b[38;5;124mfragment\u001b[39m\u001b[38;5;124m'\u001b[39m\n\u001b[0;32m    401\u001b[0m RetryManager\u001b[38;5;241m.\u001b[39mreport_retry(\n\u001b[0;32m    402\u001b[0m     err, count, retries, info\u001b[38;5;241m=\u001b[39m\u001b[38;5;28mself\u001b[39m\u001b[38;5;241m.\u001b[39m__to_screen,\n\u001b[0;32m    403\u001b[0m     warn\u001b[38;5;241m=\u001b[39m\u001b[38;5;28;01mlambda\u001b[39;00m msg: \u001b[38;5;28mself\u001b[39m\u001b[38;5;241m.\u001b[39m__to_screen(\u001b[38;5;124mf\u001b[39m\u001b[38;5;124m'\u001b[39m\u001b[38;5;124m[download] Got error: \u001b[39m\u001b[38;5;132;01m{\u001b[39;00mmsg\u001b[38;5;132;01m}\u001b[39;00m\u001b[38;5;124m'\u001b[39m),\n\u001b[1;32m--> 404\u001b[0m     error\u001b[38;5;241m=\u001b[39mIDENTITY \u001b[38;5;28;01mif\u001b[39;00m \u001b[38;5;129;01mnot\u001b[39;00m fatal \u001b[38;5;28;01melse\u001b[39;00m \u001b[38;5;28;01mlambda\u001b[39;00m e: \u001b[38;5;28mself\u001b[39m\u001b[38;5;241m.\u001b[39mreport_error(\u001b[38;5;124mf\u001b[39m\u001b[38;5;124m'\u001b[39m\u001b[38;5;130;01m\\r\u001b[39;00m\u001b[38;5;124m[download] Got error: \u001b[39m\u001b[38;5;132;01m{\u001b[39;00me\u001b[38;5;132;01m}\u001b[39;00m\u001b[38;5;124m'\u001b[39m),\n\u001b[0;32m    405\u001b[0m     sleep_func\u001b[38;5;241m=\u001b[39m\u001b[38;5;28mself\u001b[39m\u001b[38;5;241m.\u001b[39mparams\u001b[38;5;241m.\u001b[39mget(\u001b[38;5;124m'\u001b[39m\u001b[38;5;124mretry_sleep_functions\u001b[39m\u001b[38;5;124m'\u001b[39m, {})\u001b[38;5;241m.\u001b[39mget(is_frag \u001b[38;5;129;01mor\u001b[39;00m \u001b[38;5;124m'\u001b[39m\u001b[38;5;124mhttp\u001b[39m\u001b[38;5;124m'\u001b[39m),\n\u001b[0;32m    406\u001b[0m     suffix\u001b[38;5;241m=\u001b[39m\u001b[38;5;124mf\u001b[39m\u001b[38;5;124m'\u001b[39m\u001b[38;5;124mfragment\u001b[39m\u001b[38;5;132;01m{\u001b[39;00m\u001b[38;5;124m\"\u001b[39m\u001b[38;5;124ms\u001b[39m\u001b[38;5;124m\"\u001b[39m\u001b[38;5;250m \u001b[39m\u001b[38;5;28;01mif\u001b[39;00m\u001b[38;5;250m \u001b[39mfrag_index\u001b[38;5;250m \u001b[39m\u001b[38;5;129;01mis\u001b[39;00m\u001b[38;5;250m \u001b[39m\u001b[38;5;28;01mNone\u001b[39;00m\u001b[38;5;250m \u001b[39m\u001b[38;5;28;01melse\u001b[39;00m\u001b[38;5;250m \u001b[39m\u001b[38;5;124mf\u001b[39m\u001b[38;5;124m\"\u001b[39m\u001b[38;5;124m \u001b[39m\u001b[38;5;132;01m{\u001b[39;00mfrag_index\u001b[38;5;132;01m}\u001b[39;00m\u001b[38;5;124m\"\u001b[39m\u001b[38;5;132;01m}\u001b[39;00m\u001b[38;5;124m'\u001b[39m \u001b[38;5;28;01mif\u001b[39;00m is_frag \u001b[38;5;28;01melse\u001b[39;00m \u001b[38;5;28;01mNone\u001b[39;00m)\n",
      "File \u001b[1;32m~\\anaconda3\\Lib\\site-packages\\yt_dlp\\YoutubeDL.py:1045\u001b[0m, in \u001b[0;36mYoutubeDL.report_error\u001b[1;34m(self, message, *args, **kwargs)\u001b[0m\n\u001b[0;32m   1040\u001b[0m \u001b[38;5;28;01mdef\u001b[39;00m \u001b[38;5;21mreport_error\u001b[39m(\u001b[38;5;28mself\u001b[39m, message, \u001b[38;5;241m*\u001b[39margs, \u001b[38;5;241m*\u001b[39m\u001b[38;5;241m*\u001b[39mkwargs):\n\u001b[0;32m   1041\u001b[0m \u001b[38;5;250m    \u001b[39m\u001b[38;5;124;03m'''\u001b[39;00m\n\u001b[0;32m   1042\u001b[0m \u001b[38;5;124;03m    Do the same as trouble, but prefixes the message with 'ERROR:', colored\u001b[39;00m\n\u001b[0;32m   1043\u001b[0m \u001b[38;5;124;03m    in red if stderr is a tty file.\u001b[39;00m\n\u001b[0;32m   1044\u001b[0m \u001b[38;5;124;03m    '''\u001b[39;00m\n\u001b[1;32m-> 1045\u001b[0m     \u001b[38;5;28mself\u001b[39m\u001b[38;5;241m.\u001b[39mtrouble(\u001b[38;5;124mf\u001b[39m\u001b[38;5;124m'\u001b[39m\u001b[38;5;132;01m{\u001b[39;00m\u001b[38;5;28mself\u001b[39m\u001b[38;5;241m.\u001b[39m_format_err(\u001b[38;5;124m\"\u001b[39m\u001b[38;5;124mERROR:\u001b[39m\u001b[38;5;124m\"\u001b[39m,\u001b[38;5;250m \u001b[39m\u001b[38;5;28mself\u001b[39m\u001b[38;5;241m.\u001b[39mStyles\u001b[38;5;241m.\u001b[39mERROR)\u001b[38;5;132;01m}\u001b[39;00m\u001b[38;5;124m \u001b[39m\u001b[38;5;132;01m{\u001b[39;00mmessage\u001b[38;5;132;01m}\u001b[39;00m\u001b[38;5;124m'\u001b[39m, \u001b[38;5;241m*\u001b[39margs, \u001b[38;5;241m*\u001b[39m\u001b[38;5;241m*\u001b[39mkwargs)\n",
      "File \u001b[1;32m~\\anaconda3\\Lib\\site-packages\\yt_dlp\\YoutubeDL.py:984\u001b[0m, in \u001b[0;36mYoutubeDL.trouble\u001b[1;34m(self, message, tb, is_error)\u001b[0m\n\u001b[0;32m    982\u001b[0m     \u001b[38;5;28;01melse\u001b[39;00m:\n\u001b[0;32m    983\u001b[0m         exc_info \u001b[38;5;241m=\u001b[39m sys\u001b[38;5;241m.\u001b[39mexc_info()\n\u001b[1;32m--> 984\u001b[0m     \u001b[38;5;28;01mraise\u001b[39;00m DownloadError(message, exc_info)\n\u001b[0;32m    985\u001b[0m \u001b[38;5;28mself\u001b[39m\u001b[38;5;241m.\u001b[39m_download_retcode \u001b[38;5;241m=\u001b[39m \u001b[38;5;241m1\u001b[39m\n",
      "\u001b[1;31mDownloadError\u001b[0m: ERROR: \r[download] Got error: The read operation timed out"
     ]
    }
   ],
   "source": [
    "# prompts the user to enter a YouTube video URL. \n",
    "# The input is captured as a string and stored in the variable url.\n",
    "url = input(\"Enter Video url: \") \n",
    "\n",
    "# Initializing an empty dictionary called ydl_config_opts which holds ...\n",
    "# configuration options to the yt_dlp library when downloading videos.\n",
    "# This dictionary is empty because we want to use the library default settings ...\n",
    "# we can as well set our download options by looking up 'yt_dlp video download configuration option'\n",
    "ydl_config_opts = {}\n",
    "\n",
    "# Creating an instance of the YoutubeDL class with the  configuration options specified in ydl_config_opts.\n",
    "with yt_dlp.YoutubeDL(ydl_config_opts) as ydl:\n",
    "    ydl.download([url])\n",
    "    \n",
    "print(\"Video downloaded successfully!\")   # Success Message\n",
    "\n"
   ]
  },
  {
   "cell_type": "markdown",
   "id": "d58a87f0",
   "metadata": {},
   "source": [
    "## **A more Advanced Script can be written as**"
   ]
  },
  {
   "cell_type": "code",
   "execution_count": null,
   "id": "5a120239",
   "metadata": {},
   "outputs": [],
   "source": [
    "# Prompt the user for the video URL\n",
    "url = input(\"Enter Video URL: \")\n",
    "\n",
    "# Define the download location\n",
    "download_location = r\"/path/to/your/download/folder\"  # Change this to your desired folder\n",
    "\n",
    "# Define download options\n",
    "ydl_config_opts = {\n",
    "    'format': 'best',  # Specify the best available video quality\n",
    "    'outtmpl': download_location + '/%(title)s.%(ext)s',  # Set the output path and filename(by default it uses the video title and extension)\n",
    "    'progress_hooks': [lambda d: print(f\"Downloaded {d['_percent_str']} of {d['_total_bytes_str']}\")], # Shows Downlaod Progress\n",
    "    'quiet': False  # Set to True for silent mode, False to provide additional details of the output\n",
    "}\n",
    "\n",
    "# Create a YoutubeDL instance and download the video\n",
    "with yt_dlp.YoutubeDL(ydl_config_opts) as ydl:\n",
    "    ydl.download([url])\n",
    "\n",
    "print(\"Video downloaded successfully!\")  # Success Message\n"
   ]
  },
  {
   "cell_type": "code",
   "execution_count": null,
   "id": "2720608a",
   "metadata": {},
   "outputs": [],
   "source": []
  },
  {
   "cell_type": "code",
   "execution_count": null,
   "id": "eb525a50",
   "metadata": {},
   "outputs": [],
   "source": []
  },
  {
   "cell_type": "code",
   "execution_count": null,
   "id": "8e9801c1",
   "metadata": {},
   "outputs": [],
   "source": []
  },
  {
   "cell_type": "code",
   "execution_count": null,
   "id": "b3d5e533",
   "metadata": {},
   "outputs": [],
   "source": []
  }
 ],
 "metadata": {
  "kernelspec": {
   "display_name": "Python 3 (ipykernel)",
   "language": "python",
   "name": "python3"
  },
  "language_info": {
   "codemirror_mode": {
    "name": "ipython",
    "version": 3
   },
   "file_extension": ".py",
   "mimetype": "text/x-python",
   "name": "python",
   "nbconvert_exporter": "python",
   "pygments_lexer": "ipython3",
   "version": "3.11.5"
  },
  "toc": {
   "base_numbering": 1,
   "nav_menu": {},
   "number_sections": true,
   "sideBar": true,
   "skip_h1_title": false,
   "title_cell": "Table of Contents",
   "title_sidebar": "Contents",
   "toc_cell": false,
   "toc_position": {},
   "toc_section_display": true,
   "toc_window_display": false
  }
 },
 "nbformat": 4,
 "nbformat_minor": 5
}
